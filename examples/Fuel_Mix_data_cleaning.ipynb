{
 "cells": [
  {
   "cell_type": "markdown",
   "metadata": {},
   "source": [
    "Import necessary modules:"
   ]
  },
  {
   "cell_type": "code",
   "execution_count": null,
   "metadata": {},
   "outputs": [],
   "source": [
    "import numpy as np\n",
    "import pandas as pd\n",
    "import datetime"
   ]
  },
  {
   "cell_type": "markdown",
   "metadata": {},
   "source": [
    "Assuming all data was downloaded using ``Clean_Energy"
   ]
  },
  {
   "cell_type": "code",
   "execution_count": null,
   "metadata": {},
   "outputs": [],
   "source": [
    "def clean_solar_generation_data():\n",
    "    entire_df = None\n",
    "    for year in list(range(2013,2017)):\n",
    "        entire_df = export_year_data_2013_to_2016(year, big_df=entire_df)\n",
    "    for year in list(range(2017,2020)):\n",
    "        entire_df = export_year_data_2017_to_2019(year, big_df=entire_df)\n",
    "    entire_df.to_csv('cleaned_solar_generation_data.csv', sep='\\t', index=False)\n",
    "    return    "
   ]
  },
  {
   "cell_type": "code",
   "execution_count": null,
   "metadata": {},
   "outputs": [],
   "source": [
    "def export_year_data_2017_to_2019(year, big_df=None):\n",
    "    year_df=None\n",
    "    for month in ['Jan','Feb','Mar','Apr','May','Jun','Jul','Aug','Sep','Oct','Nov','Dec']:\n",
    "        year_df = export_month_data_2017_to_2019(month, year, df= year_df)\n",
    "    if big_df is None:\n",
    "        return year_df\n",
    "    else:\n",
    "        return big_df.append(year_df)"
   ]
  },
  {
   "cell_type": "code",
   "execution_count": null,
   "metadata": {},
   "outputs": [],
   "source": [
    "def export_month_data_2017_to_2019(month, year, df=None):\n",
    "    assert year in [2017, 2018, 2019], 'Not the correct function to clean this year - '+str(year)+' data'\n",
    "    filename = 'IntGenbyFuel'+str(year)+'.xlsx'\n",
    "    dummy_df = pd.read_excel(filename, sheet_name=month)\n",
    "    select_solar = dummy_df['Fuel']=='Solar'\n",
    "    solar_df = dummy_df[select_solar]\n",
    "    solar_df.reset_index(drop=True, inplace=True)\n",
    "    #Select only date and 30' time stamp as necessary column indexes:\n",
    "    cols = [c for c in solar_df.columns if (c.lower()[-2:]=='30' or c.lower()[-2:]=='00')]\n",
    "    cols = ['Date'] + cols\n",
    "    solar_df=solar_df[cols]\n",
    "    rows_no, columns_no = solar_df.shape\n",
    "    result_df = pd.DataFrame(columns = ['Date','hhmm','Solar'])\n",
    "    # Flatten solar_df information which has each date as one row and hour&min as columns into result_df that has date\n",
    "    for r in range(rows_no):\n",
    "        for c in range(1,columns_no):\n",
    "            formated_date = solar_df.iloc[r,0].strftime(\"%m/%d/%Y\")\n",
    "            result_df = result_df.append({'Date': formated_date,'hhmm':solar_df.columns[c],'Solar':solar_df.iloc[r,c]},ignore_index=True)\n",
    "    if df is None:\n",
    "        return result_df\n",
    "    else:\n",
    "        return df.append(result_df)"
   ]
  },
  {
   "cell_type": "code",
   "execution_count": null,
   "metadata": {},
   "outputs": [],
   "source": [
    "def export_year_data_2013_to_2016(year, big_df=None):\n",
    "    year_df=None\n",
    "    for month in ['Jan','Feb','Mar','Apr','May','Jun','Jul','Aug','Sep','Oct','Nov','Dec']:\n",
    "        year_df = export_month_data_2013_to_2016(month, year, df= year_df)\n",
    "    if big_df is None:\n",
    "        return year_df\n",
    "    else:\n",
    "        return big_df.append(year_df)"
   ]
  },
  {
   "cell_type": "code",
   "execution_count": null,
   "metadata": {},
   "outputs": [],
   "source": [
    "def export_month_data_2013_to_2016(month, year, df=None):\n",
    "    try:\n",
    "        filename = 'IntGenByFuel'+str(year)+'.xlsx'\n",
    "        dummy_df = pd.read_excel(filename, sheet_name=month+str(year)[-2:])\n",
    "    except FileNotFoundError:\n",
    "        filename = 'IntGenByFuel'+str(year)+'.xls'\n",
    "        dummy_df = pd.read_excel(filename, sheet_name=month+str(year)[-2:])\n",
    "    select_solar = dummy_df['Date-Fuel'].str.endswith('Solar')\n",
    "    solar_df = dummy_df[select_solar]\n",
    "    solar_df.reset_index(drop=True, inplace=True)\n",
    "    # update columns labels in case it was in datetime time format:\n",
    "    column_label = []\n",
    "    for c in solar_df.columns:\n",
    "        if isinstance(c, datetime.time):\n",
    "            update_c = c.strftime(\"%H:%M\")\n",
    "            column_label.append(update_c)\n",
    "        elif isinstance(c, datetime.datetime):\n",
    "            update_c = c.strftime(\"%H:%M\")\n",
    "            column_label.append(update_c)\n",
    "        else:\n",
    "            column_label.append(c)\n",
    "    solar_df.columns = column_label\n",
    "    #Select only date and 30' time stamp as necessary column indexes:\n",
    "    cols = [c for c in solar_df.columns if (c.lower()[-2:]=='30' or c.lower()[-2:]=='00')]\n",
    "    cols = ['Date-Fuel'] + cols\n",
    "    solar_df=solar_df[cols]\n",
    "    rows_no, columns_no = solar_df.shape\n",
    "    result_df = pd.DataFrame(columns = ['Date','hhmm','Solar'])\n",
    "    # Flatten solar_df information which has each date as one row and hour&min as columns into result_df that has date\n",
    "    for r in range(rows_no):\n",
    "        for c in range(1,columns_no):\n",
    "            string_of_date = solar_df.iloc[r,0][:8]\n",
    "            formated_date = string_of_date[:6]+'20'+string_of_date[-2:]\n",
    "            result_df = result_df.append({'Date':formated_date,'hhmm':solar_df.columns[c],'Solar':solar_df.iloc[r,c]},ignore_index=True)\n",
    "    if df is None:\n",
    "        return result_df\n",
    "    else:\n",
    "        return df.append(result_df)"
   ]
  },
  {
   "cell_type": "code",
   "execution_count": null,
   "metadata": {},
   "outputs": [],
   "source": [
    "clean_solar_generation_data()"
   ]
  },
  {
   "cell_type": "code",
   "execution_count": null,
   "metadata": {},
   "outputs": [],
   "source": []
  }
 ],
 "metadata": {
  "kernelspec": {
   "display_name": "Python 3",
   "language": "python",
   "name": "python3"
  },
  "language_info": {
   "codemirror_mode": {
    "name": "ipython",
    "version": 3
   },
   "file_extension": ".py",
   "mimetype": "text/x-python",
   "name": "python",
   "nbconvert_exporter": "python",
   "pygments_lexer": "ipython3",
   "version": "3.7.4"
  }
 },
 "nbformat": 4,
 "nbformat_minor": 2
}
