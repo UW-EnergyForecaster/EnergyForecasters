{
 "cells": [
  {
   "cell_type": "markdown",
   "metadata": {},
   "source": [
    "Import necessary modules:"
   ]
  },
  {
   "cell_type": "code",
   "execution_count": 1,
   "metadata": {},
   "outputs": [],
   "source": [
    "import numpy as np\n",
    "import pandas as pd\n",
    "import datetime\n",
    "\n",
    "import os\n",
    "import requests\n",
    "import zipfile"
   ]
  },
  {
   "cell_type": "markdown",
   "metadata": {},
   "source": [
    "Electric Reliability Council of Texas (ERCOT) keeps records of their electric generation. As of Feb 19 2020, this file is available at [ERCOT](http://www.ercot.com/gridinfo/generation). The dataset used in this demonstration, available as a link to a zip file, is the [Fuel Mix Report: 2007-2019](http://www.ercot.com/content/wcm/lists/181766/FuelMixReport_PreviousYears.zip). This dataset reports actual generation by fuel type for each 15-minute settlement interval, as well as totals by month and year-to-date.\n",
    "\n",
    "Function download:"
   ]
  },
  {
   "cell_type": "code",
   "execution_count": 3,
   "metadata": {},
   "outputs": [],
   "source": [
    "def master_solar_energy_data_processing():\n",
    "    '''\n",
    "    This is the master function that would process all the ERCOT energy data\n",
    "    '''\n",
    "    download_ERCOT_data()\n",
    "    export_clean_solar_generation_data()\n",
    "    delete_file()\n",
    "    return"
   ]
  },
  {
   "cell_type": "code",
   "execution_count": 4,
   "metadata": {},
   "outputs": [],
   "source": [
    "def filename_convention(year):\n",
    "    '''\n",
    "    This function gives the corresponding excel file name from ERCOT dataset\n",
    "    Arguments:\n",
    "        year: year, the year of the data is taken from.\n",
    "    '''\n",
    "    if year in list(range(2017,2020)):\n",
    "        filename = 'IntGenbyFuel'+str(year)+'.xlsx'\n",
    "    elif year in list(range(2013,2016)):\n",
    "        filename = 'IntGenByFuel'+str(year)+'.xls'\n",
    "    elif year == 2016:\n",
    "        filename = 'IntGenByFuel'+str(year)+'.xlsx'\n",
    "    return filename"
   ]
  },
  {
   "cell_type": "code",
   "execution_count": 5,
   "metadata": {},
   "outputs": [],
   "source": [
    "def download_ERCOT_data():\n",
    "    '''\n",
    "    This function downloads ERCOT dataset zipfile and unzip necessary files.\n",
    "    '''\n",
    "    zip_name = 'FuelMixReport_PreviousYears.zip'\n",
    "    if os.path.exists(zip_name):\n",
    "        print(zip_name + \" exists!\")\n",
    "    else:\n",
    "        print(zip_name + \" does not exist\")\n",
    "        print('downloading: '+ zip_name)\n",
    "        url = 'http://www.ercot.com/content/wcm/lists/181766/FuelMixReport_PreviousYears.zip'\n",
    "        req = requests.get(url)\n",
    "        assert req.status_code == 200,'download failed' # if the download failed, this line will generate an error\n",
    "        with open(zip_name, 'wb') as file:\n",
    "            file.write(req.content)\n",
    "    # Unzip all related files:\n",
    "    assert zipfile.is_zipfile(zip_name), str(zip_name)+' is not recognized as a zipfile. Check for file corruption.'\n",
    "    zf = zipfile.ZipFile(zip_name)\n",
    "    for year in list(range(2013,2020)):\n",
    "        filename = filename_convention(year)\n",
    "        assert filename in zf.namelist(), str(filename)+' is not found in the zipfile. Check function filename_convention.'\n",
    "        if os.path.exists(filename):\n",
    "            print(filename + \" exists!\")\n",
    "        else:\n",
    "            zf.extract(filename)\n",
    "    return"
   ]
  },
  {
   "cell_type": "code",
   "execution_count": 6,
   "metadata": {},
   "outputs": [],
   "source": [
    "def delete_file():\n",
    "    '''\n",
    "    This function deletes the unnessary files created in the process.\n",
    "    '''\n",
    "    zip_name = 'FuelMixReport_PreviousYears.zip'\n",
    "    if os.path.exists(zip_name):\n",
    "        os.remove(zip_name)\n",
    "        print(zip_name + \" removed!\")\n",
    "    for year in list(range(2013,2020)):\n",
    "        filename = filename_convention(year)\n",
    "        if os.path.exists(filename):\n",
    "            os.remove(filename)\n",
    "            print(filename + \" removed!\")\n",
    "    return"
   ]
  },
  {
   "cell_type": "code",
   "execution_count": 7,
   "metadata": {},
   "outputs": [],
   "source": [
    "def export_year_data_2017_to_2019(year, big_df=None):\n",
    "    '''\n",
    "    This function exports 1-year data to a dataframe or append to another.\n",
    "    only between 2017 and 2019\n",
    "    Arguments:\n",
    "        year: int, the year the data is taken from\n",
    "        big_df: None or DataFrame, the dataframe to append the data to.\n",
    "    Return:\n",
    "        year_df: DataFrame, the 1-year data appended to big_df\n",
    "    '''\n",
    "    year_df=None\n",
    "    for month in ['Jan','Feb','Mar','Apr','May','Jun','Jul','Aug','Sep','Oct','Nov','Dec']:\n",
    "        year_df = export_month_data_2017_to_2019(month, year, df= year_df)\n",
    "    if big_df is None:\n",
    "        return year_df\n",
    "    else:\n",
    "        return big_df.append(year_df)"
   ]
  },
  {
   "cell_type": "code",
   "execution_count": 8,
   "metadata": {},
   "outputs": [],
   "source": [
    "def export_year_data_2013_to_2016(year, big_df=None):\n",
    "    '''\n",
    "    This function exports 1-year data to a dataframe or append to another.\n",
    "    only between 2013 and 2016\n",
    "    Arguments:\n",
    "        year: int, the year the data is taken from\n",
    "        big_df: None or DataFrame, the dataframe to append the data to.\n",
    "    Return:\n",
    "        year_df: DataFrame, the 1-year data appended to big_df\n",
    "    '''\n",
    "    year_df=None\n",
    "    for month in ['Jan','Feb','Mar','Apr','May','Jun','Jul','Aug','Sep','Oct','Nov','Dec']:\n",
    "        year_df = export_month_data_2013_to_2016(month, year, df= year_df)\n",
    "    if big_df is None:\n",
    "        return year_df\n",
    "    else:\n",
    "        return big_df.append(year_df)"
   ]
  },
  {
   "cell_type": "code",
   "execution_count": 9,
   "metadata": {},
   "outputs": [],
   "source": [
    "def export_month_data_2017_to_2019(month, year, df=None):\n",
    "    assert year in list(range(2017,2020)), 'Not the correct function to clean this year - '+str(year)+' data'\n",
    "    filename = filename_convention(year)\n",
    "    dummy_df = pd.read_excel(filename, sheet_name=month)\n",
    "    select_solar = dummy_df['Fuel']=='Solar'\n",
    "    solar_df = dummy_df[select_solar]\n",
    "    solar_df.reset_index(drop=True, inplace=True)\n",
    "    #Select only date and 30' time stamp as necessary column indexes:\n",
    "    cols = [c for c in solar_df.columns if (c.lower()[-2:]=='30' or c.lower()[-2:]=='00')]\n",
    "    cols = ['Date'] + cols\n",
    "    solar_df=solar_df[cols]\n",
    "    rows_no, columns_no = solar_df.shape\n",
    "    result_df = pd.DataFrame(columns = ['Date','hhmm','Solar'])\n",
    "    # Flatten solar_df information which has each date as one row and hour&min as columns into result_df that has date\n",
    "    for r in range(rows_no):\n",
    "        for c in range(1,columns_no):\n",
    "            formated_date = solar_df.iloc[r,0].strftime(\"%m/%d/%Y\")\n",
    "            result_df = result_df.append({'Date': formated_date,'hhmm':solar_df.columns[c],'Solar':solar_df.iloc[r,c]},ignore_index=True)\n",
    "    if df is None:\n",
    "        return result_df\n",
    "    else:\n",
    "        return df.append(result_df)"
   ]
  },
  {
   "cell_type": "code",
   "execution_count": 10,
   "metadata": {},
   "outputs": [],
   "source": [
    "def export_month_data_2013_to_2016(month, year, df=None):\n",
    "    assert year in list(range(2013,2017)), 'Not the correct function to clean this year - '+str(year)+' data'\n",
    "    filename = filename_convention(year)\n",
    "    dummy_df = pd.read_excel(filename, sheet_name=month+str(year)[-2:])\n",
    "    select_solar = dummy_df['Date-Fuel'].str.endswith('Solar')\n",
    "    solar_df = dummy_df[select_solar]\n",
    "    solar_df.reset_index(drop=True, inplace=True)\n",
    "    # Update columns labels to hh:mm format in case it was of datetime data type:\n",
    "    column_label = []\n",
    "    for c in solar_df.columns:\n",
    "        if isinstance(c, datetime.time):\n",
    "            update_c = c.strftime(\"%H:%M\")\n",
    "            column_label.append(update_c)\n",
    "        elif isinstance(c, datetime.datetime):\n",
    "            update_c = c.strftime(\"%H:%M\")\n",
    "            column_label.append(update_c)\n",
    "        else:\n",
    "            column_label.append(c)\n",
    "    solar_df.columns = column_label\n",
    "    #Select only date and 30' time stamp as necessary column indexes:\n",
    "    cols = [c for c in solar_df.columns if (c.lower()[-2:]=='30' or c.lower()[-2:]=='00')]\n",
    "    cols = ['Date-Fuel'] + cols\n",
    "    solar_df=solar_df[cols]\n",
    "    rows_no, columns_no = solar_df.shape\n",
    "    result_df = pd.DataFrame(columns = ['Date','hhmm','Solar'])\n",
    "    # Flatten solar_df information which has each date as one row and hour&min as columns into result_df that has date\n",
    "    for r in range(rows_no):\n",
    "        for c in range(1,columns_no):\n",
    "            string_of_date = solar_df.iloc[r,0][:8]\n",
    "            formated_date = string_of_date[:6]+'20'+string_of_date[-2:]\n",
    "            result_df = result_df.append({'Date':formated_date,'hhmm':solar_df.columns[c],'Solar':solar_df.iloc[r,c]},ignore_index=True)\n",
    "    if df is None:\n",
    "        return result_df\n",
    "    else:\n",
    "        return df.append(result_df)"
   ]
  },
  {
   "cell_type": "code",
   "execution_count": 11,
   "metadata": {},
   "outputs": [],
   "source": [
    "def export_clean_solar_generation_data():\n",
    "    entire_df = None\n",
    "    for year in list(range(2013,2017)):\n",
    "        entire_df = export_year_data_2013_to_2016(year, big_df=entire_df)\n",
    "    for year in list(range(2017,2020)):\n",
    "        entire_df = export_year_data_2017_to_2019(year, big_df=entire_df)\n",
    "    entire_df.to_csv('cleaned_solar_generation_data.csv', sep='\\t', index=False)\n",
    "    return    "
   ]
  },
  {
   "cell_type": "code",
   "execution_count": 11,
   "metadata": {},
   "outputs": [
    {
     "name": "stdout",
     "output_type": "stream",
     "text": [
      "FuelMixReport_PreviousYears.zip does not exist\n",
      "downloading: FuelMixReport_PreviousYears.zip\n",
      "FuelMixReport_PreviousYears.zip removed!\n",
      "IntGenByFuel2013.xls removed!\n",
      "IntGenByFuel2014.xls removed!\n",
      "IntGenByFuel2015.xls removed!\n",
      "IntGenByFuel2016.xlsx removed!\n",
      "IntGenbyFuel2017.xlsx removed!\n",
      "IntGenbyFuel2018.xlsx removed!\n",
      "IntGenbyFuel2019.xlsx removed!\n"
     ]
    }
   ],
   "source": [
    "master_solar_energy_data_processing()"
   ]
  },
  {
   "cell_type": "code",
   "execution_count": 12,
   "metadata": {},
   "outputs": [
    {
     "ename": "FileNotFoundError",
     "evalue": "[Errno 2] No such file or directory: 'IntGenbyFuel2018.xlsx'",
     "output_type": "error",
     "traceback": [
      "\u001b[0;31m---------------------------------------------------------------------------\u001b[0m",
      "\u001b[0;31mFileNotFoundError\u001b[0m                         Traceback (most recent call last)",
      "\u001b[0;32m<ipython-input-12-d0ddabdb3ef9>\u001b[0m in \u001b[0;36m<module>\u001b[0;34m\u001b[0m\n\u001b[0;32m----> 1\u001b[0;31m \u001b[0mexport_year_data_2017_to_2019\u001b[0m\u001b[0;34m(\u001b[0m\u001b[0;36m2018\u001b[0m\u001b[0;34m,\u001b[0m \u001b[0mbig_df\u001b[0m\u001b[0;34m=\u001b[0m\u001b[0;32mNone\u001b[0m\u001b[0;34m)\u001b[0m\u001b[0;34m\u001b[0m\u001b[0;34m\u001b[0m\u001b[0m\n\u001b[0m",
      "\u001b[0;32m<ipython-input-7-83446176492c>\u001b[0m in \u001b[0;36mexport_year_data_2017_to_2019\u001b[0;34m(year, big_df)\u001b[0m\n\u001b[1;32m     11\u001b[0m     \u001b[0myear_df\u001b[0m\u001b[0;34m=\u001b[0m\u001b[0;32mNone\u001b[0m\u001b[0;34m\u001b[0m\u001b[0;34m\u001b[0m\u001b[0m\n\u001b[1;32m     12\u001b[0m     \u001b[0;32mfor\u001b[0m \u001b[0mmonth\u001b[0m \u001b[0;32min\u001b[0m \u001b[0;34m[\u001b[0m\u001b[0;34m'Jan'\u001b[0m\u001b[0;34m,\u001b[0m\u001b[0;34m'Feb'\u001b[0m\u001b[0;34m,\u001b[0m\u001b[0;34m'Mar'\u001b[0m\u001b[0;34m,\u001b[0m\u001b[0;34m'Apr'\u001b[0m\u001b[0;34m,\u001b[0m\u001b[0;34m'May'\u001b[0m\u001b[0;34m,\u001b[0m\u001b[0;34m'Jun'\u001b[0m\u001b[0;34m,\u001b[0m\u001b[0;34m'Jul'\u001b[0m\u001b[0;34m,\u001b[0m\u001b[0;34m'Aug'\u001b[0m\u001b[0;34m,\u001b[0m\u001b[0;34m'Sep'\u001b[0m\u001b[0;34m,\u001b[0m\u001b[0;34m'Oct'\u001b[0m\u001b[0;34m,\u001b[0m\u001b[0;34m'Nov'\u001b[0m\u001b[0;34m,\u001b[0m\u001b[0;34m'Dec'\u001b[0m\u001b[0;34m]\u001b[0m\u001b[0;34m:\u001b[0m\u001b[0;34m\u001b[0m\u001b[0;34m\u001b[0m\u001b[0m\n\u001b[0;32m---> 13\u001b[0;31m         \u001b[0myear_df\u001b[0m \u001b[0;34m=\u001b[0m \u001b[0mexport_month_data_2017_to_2019\u001b[0m\u001b[0;34m(\u001b[0m\u001b[0mmonth\u001b[0m\u001b[0;34m,\u001b[0m \u001b[0myear\u001b[0m\u001b[0;34m,\u001b[0m \u001b[0mdf\u001b[0m\u001b[0;34m=\u001b[0m \u001b[0myear_df\u001b[0m\u001b[0;34m)\u001b[0m\u001b[0;34m\u001b[0m\u001b[0;34m\u001b[0m\u001b[0m\n\u001b[0m\u001b[1;32m     14\u001b[0m     \u001b[0;32mif\u001b[0m \u001b[0mbig_df\u001b[0m \u001b[0;32mis\u001b[0m \u001b[0;32mNone\u001b[0m\u001b[0;34m:\u001b[0m\u001b[0;34m\u001b[0m\u001b[0;34m\u001b[0m\u001b[0m\n\u001b[1;32m     15\u001b[0m         \u001b[0;32mreturn\u001b[0m \u001b[0myear_df\u001b[0m\u001b[0;34m\u001b[0m\u001b[0;34m\u001b[0m\u001b[0m\n",
      "\u001b[0;32m<ipython-input-9-6dc64a288295>\u001b[0m in \u001b[0;36mexport_month_data_2017_to_2019\u001b[0;34m(month, year, df)\u001b[0m\n\u001b[1;32m      2\u001b[0m     \u001b[0;32massert\u001b[0m \u001b[0myear\u001b[0m \u001b[0;32min\u001b[0m \u001b[0mlist\u001b[0m\u001b[0;34m(\u001b[0m\u001b[0mrange\u001b[0m\u001b[0;34m(\u001b[0m\u001b[0;36m2017\u001b[0m\u001b[0;34m,\u001b[0m\u001b[0;36m2020\u001b[0m\u001b[0;34m)\u001b[0m\u001b[0;34m)\u001b[0m\u001b[0;34m,\u001b[0m \u001b[0;34m'Not the correct function to clean this year - '\u001b[0m\u001b[0;34m+\u001b[0m\u001b[0mstr\u001b[0m\u001b[0;34m(\u001b[0m\u001b[0myear\u001b[0m\u001b[0;34m)\u001b[0m\u001b[0;34m+\u001b[0m\u001b[0;34m' data'\u001b[0m\u001b[0;34m\u001b[0m\u001b[0;34m\u001b[0m\u001b[0m\n\u001b[1;32m      3\u001b[0m     \u001b[0mfilename\u001b[0m \u001b[0;34m=\u001b[0m \u001b[0mfilename_convention\u001b[0m\u001b[0;34m(\u001b[0m\u001b[0myear\u001b[0m\u001b[0;34m)\u001b[0m\u001b[0;34m\u001b[0m\u001b[0;34m\u001b[0m\u001b[0m\n\u001b[0;32m----> 4\u001b[0;31m     \u001b[0mdummy_df\u001b[0m \u001b[0;34m=\u001b[0m \u001b[0mpd\u001b[0m\u001b[0;34m.\u001b[0m\u001b[0mread_excel\u001b[0m\u001b[0;34m(\u001b[0m\u001b[0mfilename\u001b[0m\u001b[0;34m,\u001b[0m \u001b[0msheet_name\u001b[0m\u001b[0;34m=\u001b[0m\u001b[0mmonth\u001b[0m\u001b[0;34m)\u001b[0m\u001b[0;34m\u001b[0m\u001b[0;34m\u001b[0m\u001b[0m\n\u001b[0m\u001b[1;32m      5\u001b[0m     \u001b[0mselect_solar\u001b[0m \u001b[0;34m=\u001b[0m \u001b[0mdummy_df\u001b[0m\u001b[0;34m[\u001b[0m\u001b[0;34m'Fuel'\u001b[0m\u001b[0;34m]\u001b[0m\u001b[0;34m==\u001b[0m\u001b[0;34m'Solar'\u001b[0m\u001b[0;34m\u001b[0m\u001b[0;34m\u001b[0m\u001b[0m\n\u001b[1;32m      6\u001b[0m     \u001b[0msolar_df\u001b[0m \u001b[0;34m=\u001b[0m \u001b[0mdummy_df\u001b[0m\u001b[0;34m[\u001b[0m\u001b[0mselect_solar\u001b[0m\u001b[0;34m]\u001b[0m\u001b[0;34m\u001b[0m\u001b[0;34m\u001b[0m\u001b[0m\n",
      "\u001b[0;32m~/anaconda3/lib/python3.7/site-packages/pandas/util/_decorators.py\u001b[0m in \u001b[0;36mwrapper\u001b[0;34m(*args, **kwargs)\u001b[0m\n\u001b[1;32m    206\u001b[0m                 \u001b[0;32melse\u001b[0m\u001b[0;34m:\u001b[0m\u001b[0;34m\u001b[0m\u001b[0;34m\u001b[0m\u001b[0m\n\u001b[1;32m    207\u001b[0m                     \u001b[0mkwargs\u001b[0m\u001b[0;34m[\u001b[0m\u001b[0mnew_arg_name\u001b[0m\u001b[0;34m]\u001b[0m \u001b[0;34m=\u001b[0m \u001b[0mnew_arg_value\u001b[0m\u001b[0;34m\u001b[0m\u001b[0;34m\u001b[0m\u001b[0m\n\u001b[0;32m--> 208\u001b[0;31m             \u001b[0;32mreturn\u001b[0m \u001b[0mfunc\u001b[0m\u001b[0;34m(\u001b[0m\u001b[0;34m*\u001b[0m\u001b[0margs\u001b[0m\u001b[0;34m,\u001b[0m \u001b[0;34m**\u001b[0m\u001b[0mkwargs\u001b[0m\u001b[0;34m)\u001b[0m\u001b[0;34m\u001b[0m\u001b[0;34m\u001b[0m\u001b[0m\n\u001b[0m\u001b[1;32m    209\u001b[0m \u001b[0;34m\u001b[0m\u001b[0m\n\u001b[1;32m    210\u001b[0m         \u001b[0;32mreturn\u001b[0m \u001b[0mwrapper\u001b[0m\u001b[0;34m\u001b[0m\u001b[0;34m\u001b[0m\u001b[0m\n",
      "\u001b[0;32m~/anaconda3/lib/python3.7/site-packages/pandas/io/excel/_base.py\u001b[0m in \u001b[0;36mread_excel\u001b[0;34m(io, sheet_name, header, names, index_col, usecols, squeeze, dtype, engine, converters, true_values, false_values, skiprows, nrows, na_values, keep_default_na, verbose, parse_dates, date_parser, thousands, comment, skip_footer, skipfooter, convert_float, mangle_dupe_cols, **kwds)\u001b[0m\n\u001b[1;32m    308\u001b[0m \u001b[0;34m\u001b[0m\u001b[0m\n\u001b[1;32m    309\u001b[0m     \u001b[0;32mif\u001b[0m \u001b[0;32mnot\u001b[0m \u001b[0misinstance\u001b[0m\u001b[0;34m(\u001b[0m\u001b[0mio\u001b[0m\u001b[0;34m,\u001b[0m \u001b[0mExcelFile\u001b[0m\u001b[0;34m)\u001b[0m\u001b[0;34m:\u001b[0m\u001b[0;34m\u001b[0m\u001b[0;34m\u001b[0m\u001b[0m\n\u001b[0;32m--> 310\u001b[0;31m         \u001b[0mio\u001b[0m \u001b[0;34m=\u001b[0m \u001b[0mExcelFile\u001b[0m\u001b[0;34m(\u001b[0m\u001b[0mio\u001b[0m\u001b[0;34m,\u001b[0m \u001b[0mengine\u001b[0m\u001b[0;34m=\u001b[0m\u001b[0mengine\u001b[0m\u001b[0;34m)\u001b[0m\u001b[0;34m\u001b[0m\u001b[0;34m\u001b[0m\u001b[0m\n\u001b[0m\u001b[1;32m    311\u001b[0m     \u001b[0;32melif\u001b[0m \u001b[0mengine\u001b[0m \u001b[0;32mand\u001b[0m \u001b[0mengine\u001b[0m \u001b[0;34m!=\u001b[0m \u001b[0mio\u001b[0m\u001b[0;34m.\u001b[0m\u001b[0mengine\u001b[0m\u001b[0;34m:\u001b[0m\u001b[0;34m\u001b[0m\u001b[0;34m\u001b[0m\u001b[0m\n\u001b[1;32m    312\u001b[0m         raise ValueError(\n",
      "\u001b[0;32m~/anaconda3/lib/python3.7/site-packages/pandas/io/excel/_base.py\u001b[0m in \u001b[0;36m__init__\u001b[0;34m(self, io, engine)\u001b[0m\n\u001b[1;32m    817\u001b[0m         \u001b[0mself\u001b[0m\u001b[0;34m.\u001b[0m\u001b[0m_io\u001b[0m \u001b[0;34m=\u001b[0m \u001b[0m_stringify_path\u001b[0m\u001b[0;34m(\u001b[0m\u001b[0mio\u001b[0m\u001b[0;34m)\u001b[0m\u001b[0;34m\u001b[0m\u001b[0;34m\u001b[0m\u001b[0m\n\u001b[1;32m    818\u001b[0m \u001b[0;34m\u001b[0m\u001b[0m\n\u001b[0;32m--> 819\u001b[0;31m         \u001b[0mself\u001b[0m\u001b[0;34m.\u001b[0m\u001b[0m_reader\u001b[0m \u001b[0;34m=\u001b[0m \u001b[0mself\u001b[0m\u001b[0;34m.\u001b[0m\u001b[0m_engines\u001b[0m\u001b[0;34m[\u001b[0m\u001b[0mengine\u001b[0m\u001b[0;34m]\u001b[0m\u001b[0;34m(\u001b[0m\u001b[0mself\u001b[0m\u001b[0;34m.\u001b[0m\u001b[0m_io\u001b[0m\u001b[0;34m)\u001b[0m\u001b[0;34m\u001b[0m\u001b[0;34m\u001b[0m\u001b[0m\n\u001b[0m\u001b[1;32m    820\u001b[0m \u001b[0;34m\u001b[0m\u001b[0m\n\u001b[1;32m    821\u001b[0m     \u001b[0;32mdef\u001b[0m \u001b[0m__fspath__\u001b[0m\u001b[0;34m(\u001b[0m\u001b[0mself\u001b[0m\u001b[0;34m)\u001b[0m\u001b[0;34m:\u001b[0m\u001b[0;34m\u001b[0m\u001b[0;34m\u001b[0m\u001b[0m\n",
      "\u001b[0;32m~/anaconda3/lib/python3.7/site-packages/pandas/io/excel/_xlrd.py\u001b[0m in \u001b[0;36m__init__\u001b[0;34m(self, filepath_or_buffer)\u001b[0m\n\u001b[1;32m     19\u001b[0m         \u001b[0merr_msg\u001b[0m \u001b[0;34m=\u001b[0m \u001b[0;34m\"Install xlrd >= 1.0.0 for Excel support\"\u001b[0m\u001b[0;34m\u001b[0m\u001b[0;34m\u001b[0m\u001b[0m\n\u001b[1;32m     20\u001b[0m         \u001b[0mimport_optional_dependency\u001b[0m\u001b[0;34m(\u001b[0m\u001b[0;34m\"xlrd\"\u001b[0m\u001b[0;34m,\u001b[0m \u001b[0mextra\u001b[0m\u001b[0;34m=\u001b[0m\u001b[0merr_msg\u001b[0m\u001b[0;34m)\u001b[0m\u001b[0;34m\u001b[0m\u001b[0;34m\u001b[0m\u001b[0m\n\u001b[0;32m---> 21\u001b[0;31m         \u001b[0msuper\u001b[0m\u001b[0;34m(\u001b[0m\u001b[0;34m)\u001b[0m\u001b[0;34m.\u001b[0m\u001b[0m__init__\u001b[0m\u001b[0;34m(\u001b[0m\u001b[0mfilepath_or_buffer\u001b[0m\u001b[0;34m)\u001b[0m\u001b[0;34m\u001b[0m\u001b[0;34m\u001b[0m\u001b[0m\n\u001b[0m\u001b[1;32m     22\u001b[0m \u001b[0;34m\u001b[0m\u001b[0m\n\u001b[1;32m     23\u001b[0m     \u001b[0;34m@\u001b[0m\u001b[0mproperty\u001b[0m\u001b[0;34m\u001b[0m\u001b[0;34m\u001b[0m\u001b[0m\n",
      "\u001b[0;32m~/anaconda3/lib/python3.7/site-packages/pandas/io/excel/_base.py\u001b[0m in \u001b[0;36m__init__\u001b[0;34m(self, filepath_or_buffer)\u001b[0m\n\u001b[1;32m    357\u001b[0m             \u001b[0mself\u001b[0m\u001b[0;34m.\u001b[0m\u001b[0mbook\u001b[0m \u001b[0;34m=\u001b[0m \u001b[0mself\u001b[0m\u001b[0;34m.\u001b[0m\u001b[0mload_workbook\u001b[0m\u001b[0;34m(\u001b[0m\u001b[0mfilepath_or_buffer\u001b[0m\u001b[0;34m)\u001b[0m\u001b[0;34m\u001b[0m\u001b[0;34m\u001b[0m\u001b[0m\n\u001b[1;32m    358\u001b[0m         \u001b[0;32melif\u001b[0m \u001b[0misinstance\u001b[0m\u001b[0;34m(\u001b[0m\u001b[0mfilepath_or_buffer\u001b[0m\u001b[0;34m,\u001b[0m \u001b[0mstr\u001b[0m\u001b[0;34m)\u001b[0m\u001b[0;34m:\u001b[0m\u001b[0;34m\u001b[0m\u001b[0;34m\u001b[0m\u001b[0m\n\u001b[0;32m--> 359\u001b[0;31m             \u001b[0mself\u001b[0m\u001b[0;34m.\u001b[0m\u001b[0mbook\u001b[0m \u001b[0;34m=\u001b[0m \u001b[0mself\u001b[0m\u001b[0;34m.\u001b[0m\u001b[0mload_workbook\u001b[0m\u001b[0;34m(\u001b[0m\u001b[0mfilepath_or_buffer\u001b[0m\u001b[0;34m)\u001b[0m\u001b[0;34m\u001b[0m\u001b[0;34m\u001b[0m\u001b[0m\n\u001b[0m\u001b[1;32m    360\u001b[0m         \u001b[0;32melse\u001b[0m\u001b[0;34m:\u001b[0m\u001b[0;34m\u001b[0m\u001b[0;34m\u001b[0m\u001b[0m\n\u001b[1;32m    361\u001b[0m             raise ValueError(\n",
      "\u001b[0;32m~/anaconda3/lib/python3.7/site-packages/pandas/io/excel/_xlrd.py\u001b[0m in \u001b[0;36mload_workbook\u001b[0;34m(self, filepath_or_buffer)\u001b[0m\n\u001b[1;32m     34\u001b[0m             \u001b[0;32mreturn\u001b[0m \u001b[0mopen_workbook\u001b[0m\u001b[0;34m(\u001b[0m\u001b[0mfile_contents\u001b[0m\u001b[0;34m=\u001b[0m\u001b[0mdata\u001b[0m\u001b[0;34m)\u001b[0m\u001b[0;34m\u001b[0m\u001b[0;34m\u001b[0m\u001b[0m\n\u001b[1;32m     35\u001b[0m         \u001b[0;32melse\u001b[0m\u001b[0;34m:\u001b[0m\u001b[0;34m\u001b[0m\u001b[0;34m\u001b[0m\u001b[0m\n\u001b[0;32m---> 36\u001b[0;31m             \u001b[0;32mreturn\u001b[0m \u001b[0mopen_workbook\u001b[0m\u001b[0;34m(\u001b[0m\u001b[0mfilepath_or_buffer\u001b[0m\u001b[0;34m)\u001b[0m\u001b[0;34m\u001b[0m\u001b[0;34m\u001b[0m\u001b[0m\n\u001b[0m\u001b[1;32m     37\u001b[0m \u001b[0;34m\u001b[0m\u001b[0m\n\u001b[1;32m     38\u001b[0m     \u001b[0;34m@\u001b[0m\u001b[0mproperty\u001b[0m\u001b[0;34m\u001b[0m\u001b[0;34m\u001b[0m\u001b[0m\n",
      "\u001b[0;32m~/anaconda3/lib/python3.7/site-packages/xlrd/__init__.py\u001b[0m in \u001b[0;36mopen_workbook\u001b[0;34m(filename, logfile, verbosity, use_mmap, file_contents, encoding_override, formatting_info, on_demand, ragged_rows)\u001b[0m\n\u001b[1;32m    109\u001b[0m     \u001b[0;32melse\u001b[0m\u001b[0;34m:\u001b[0m\u001b[0;34m\u001b[0m\u001b[0;34m\u001b[0m\u001b[0m\n\u001b[1;32m    110\u001b[0m         \u001b[0mfilename\u001b[0m \u001b[0;34m=\u001b[0m \u001b[0mos\u001b[0m\u001b[0;34m.\u001b[0m\u001b[0mpath\u001b[0m\u001b[0;34m.\u001b[0m\u001b[0mexpanduser\u001b[0m\u001b[0;34m(\u001b[0m\u001b[0mfilename\u001b[0m\u001b[0;34m)\u001b[0m\u001b[0;34m\u001b[0m\u001b[0;34m\u001b[0m\u001b[0m\n\u001b[0;32m--> 111\u001b[0;31m         \u001b[0;32mwith\u001b[0m \u001b[0mopen\u001b[0m\u001b[0;34m(\u001b[0m\u001b[0mfilename\u001b[0m\u001b[0;34m,\u001b[0m \u001b[0;34m\"rb\"\u001b[0m\u001b[0;34m)\u001b[0m \u001b[0;32mas\u001b[0m \u001b[0mf\u001b[0m\u001b[0;34m:\u001b[0m\u001b[0;34m\u001b[0m\u001b[0;34m\u001b[0m\u001b[0m\n\u001b[0m\u001b[1;32m    112\u001b[0m             \u001b[0mpeek\u001b[0m \u001b[0;34m=\u001b[0m \u001b[0mf\u001b[0m\u001b[0;34m.\u001b[0m\u001b[0mread\u001b[0m\u001b[0;34m(\u001b[0m\u001b[0mpeeksz\u001b[0m\u001b[0;34m)\u001b[0m\u001b[0;34m\u001b[0m\u001b[0;34m\u001b[0m\u001b[0m\n\u001b[1;32m    113\u001b[0m     \u001b[0;32mif\u001b[0m \u001b[0mpeek\u001b[0m \u001b[0;34m==\u001b[0m \u001b[0;34mb\"PK\\x03\\x04\"\u001b[0m\u001b[0;34m:\u001b[0m \u001b[0;31m# a ZIP file\u001b[0m\u001b[0;34m\u001b[0m\u001b[0;34m\u001b[0m\u001b[0m\n",
      "\u001b[0;31mFileNotFoundError\u001b[0m: [Errno 2] No such file or directory: 'IntGenbyFuel2018.xlsx'"
     ]
    }
   ],
   "source": [
    "export_year_data_2017_to_2019(2018, big_df=None)"
   ]
  },
  {
   "cell_type": "code",
   "execution_count": null,
   "metadata": {},
   "outputs": [],
   "source": []
  }
 ],
 "metadata": {
  "kernelspec": {
   "display_name": "Python 3",
   "language": "python",
   "name": "python3"
  },
  "language_info": {
   "codemirror_mode": {
    "name": "ipython",
    "version": 3
   },
   "file_extension": ".py",
   "mimetype": "text/x-python",
   "name": "python",
   "nbconvert_exporter": "python",
   "pygments_lexer": "ipython3",
   "version": "3.7.4"
  }
 },
 "nbformat": 4,
 "nbformat_minor": 2
}
