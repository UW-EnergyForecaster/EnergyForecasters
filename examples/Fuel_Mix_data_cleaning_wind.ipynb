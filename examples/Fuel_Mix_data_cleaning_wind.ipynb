{
 "cells": [
  {
   "cell_type": "markdown",
   "metadata": {},
   "source": [
    "Import necessary modules:"
   ]
  },
  {
   "cell_type": "code",
   "execution_count": 1,
   "metadata": {},
   "outputs": [],
   "source": [
    "import numpy as np\n",
    "import pandas as pd\n",
    "import datetime\n",
    "\n",
    "import os\n",
    "import requests\n",
    "import zipfile"
   ]
  },
  {
   "cell_type": "markdown",
   "metadata": {},
   "source": [
    "Electric Reliability Council of Texas (ERCOT) keeps records of their electric generation. As of Feb 19 2020, this file is available at [ERCOT](http://www.ercot.com/gridinfo/generation). The dataset used in this demonstration, available as a link to a zip file, is the [Fuel Mix Report: 2007-2019](http://www.ercot.com/content/wcm/lists/181766/FuelMixReport_PreviousYears.zip). This dataset reports actual generation by fuel type for each 15-minute settlement interval, as well as totals by month and year-to-date.\n",
    "\n",
    "Function download:"
   ]
  },
  {
   "cell_type": "code",
   "execution_count": 3,
   "metadata": {},
   "outputs": [],
   "source": [
    "def master_wind_energy_data_processing():\n",
    "    '''\n",
    "    This is the master function that would process all the ERCOT energy data\n",
    "    '''\n",
    "    download_ERCOT_data()\n",
    "    export_clean_wind_generation_data()\n",
    "    delete_file()\n",
    "    return"
   ]
  },
  {
   "cell_type": "code",
   "execution_count": 4,
   "metadata": {},
   "outputs": [],
   "source": [
    "def filename_convention(year):\n",
    "    '''\n",
    "    This function gives the corresponding excel file name from ERCOT dataset\n",
    "    Arguments:\n",
    "        year: year, the year of the data is taken from.\n",
    "    '''\n",
    "    if year in list(range(2017,2020)):\n",
    "        filename = 'IntGenbyFuel'+str(year)+'.xlsx'\n",
    "    elif year in list(range(2013,2016)):\n",
    "        filename = 'IntGenByFuel'+str(year)+'.xls'\n",
    "    elif year == 2016:\n",
    "        filename = 'IntGenByFuel'+str(year)+'.xlsx'\n",
    "    return filename"
   ]
  },
  {
   "cell_type": "code",
   "execution_count": 5,
   "metadata": {},
   "outputs": [],
   "source": [
    "def download_ERCOT_data():\n",
    "    '''\n",
    "    This function downloads ERCOT dataset zipfile and unzip necessary files.\n",
    "    '''\n",
    "    zip_name = 'FuelMixReport_PreviousYears.zip'\n",
    "    if os.path.exists(zip_name):\n",
    "        print(zip_name + \" exists!\")\n",
    "    else:\n",
    "        print(zip_name + \" does not exist\")\n",
    "        print('downloading: '+ zip_name)\n",
    "        url = 'http://www.ercot.com/content/wcm/lists/181766/FuelMixReport_PreviousYears.zip'\n",
    "        req = requests.get(url)\n",
    "        assert req.status_code == 200,'download failed' # if the download failed, this line will generate an error\n",
    "        with open(zip_name, 'wb') as file:\n",
    "            file.write(req.content)\n",
    "    # Unzip all related files:\n",
    "    assert zipfile.is_zipfile(zip_name), str(zip_name)+' is not recognized as a zipfile. Check for file corruption.'\n",
    "    zf = zipfile.ZipFile(zip_name)\n",
    "    for year in list(range(2013,2020)):\n",
    "        filename = filename_convention(year)\n",
    "        assert filename in zf.namelist(), str(filename)+' is not found in the zipfile. Check function filename_convention.'\n",
    "        if os.path.exists(filename):\n",
    "            print(filename + \" exists!\")\n",
    "        else:\n",
    "            zf.extract(filename)\n",
    "    return"
   ]
  },
  {
   "cell_type": "code",
   "execution_count": 6,
   "metadata": {},
   "outputs": [],
   "source": [
    "def delete_file():\n",
    "    '''\n",
    "    This function deletes the unnessary files created in the process.\n",
    "    '''\n",
    "    zip_name = 'FuelMixReport_PreviousYears.zip'\n",
    "    if os.path.exists(zip_name):\n",
    "        os.remove(zip_name)\n",
    "        print(zip_name + \" removed!\")\n",
    "    for year in list(range(2013,2020)):\n",
    "        filename = filename_convention(year)\n",
    "        if os.path.exists(filename):\n",
    "            os.remove(filename)\n",
    "            print(filename + \" removed!\")\n",
    "    return"
   ]
  },
  {
   "cell_type": "code",
   "execution_count": 7,
   "metadata": {},
   "outputs": [],
   "source": [
    "def export_year_data_2017_to_2019(year, big_df=None):\n",
    "    '''\n",
    "    This function exports 1-year data to a dataframe or append to another.\n",
    "    only between 2017 and 2019\n",
    "    Arguments:\n",
    "        year: int, the year the data is taken from\n",
    "        big_df: None or DataFrame, the dataframe to append the data to.\n",
    "    Return:\n",
    "        year_df: DataFrame, the 1-year data appended to big_df\n",
    "    '''\n",
    "    year_df=None\n",
    "    for month in ['Jan','Feb','Mar','Apr','May','Jun','Jul','Aug','Sep','Oct','Nov','Dec']:\n",
    "        year_df = export_month_data_2017_to_2019(month, year, df= year_df)\n",
    "    if big_df is None:\n",
    "        return year_df\n",
    "    else:\n",
    "        return big_df.append(year_df)"
   ]
  },
  {
   "cell_type": "code",
   "execution_count": 8,
   "metadata": {},
   "outputs": [],
   "source": [
    "def export_year_data_2013_to_2016(year, big_df=None):\n",
    "    '''\n",
    "    This function exports 1-year data to a dataframe or append to another.\n",
    "    only between 2013 and 2016\n",
    "    Arguments:\n",
    "        year: int, the year the data is taken from\n",
    "        big_df: None or DataFrame, the dataframe to append the data to.\n",
    "    Return:\n",
    "        year_df: DataFrame, the 1-year data appended to big_df\n",
    "    '''\n",
    "    year_df=None\n",
    "    for month in ['Jan','Feb','Mar','Apr','May','Jun','Jul','Aug','Sep','Oct','Nov','Dec']:\n",
    "        year_df = export_month_data_2013_to_2016(month, year, df= year_df)\n",
    "    if big_df is None:\n",
    "        return year_df\n",
    "    else:\n",
    "        return big_df.append(year_df)"
   ]
  },
  {
   "cell_type": "code",
   "execution_count": 9,
   "metadata": {},
   "outputs": [],
   "source": [
    "def export_month_data_2017_to_2019(month, year, df=None):\n",
    "    assert year in list(range(2017,2020)), 'Not the correct function to clean this year - '+str(year)+' data'\n",
    "    filename = filename_convention(year)\n",
    "    dummy_df = pd.read_excel(filename, sheet_name=month)\n",
    "    select_wind = dummy_df['Fuel']=='Wind'\n",
    "    wind_df = dummy_df[select_wind]\n",
    "    wind_df.reset_index(drop=True, inplace=True)\n",
    "    #Select only date and 30' time stamp as necessary column indexes:\n",
    "    cols = [c for c in wind_df.columns if (c.lower()[-2:]=='30' or c.lower()[-2:]=='00')]\n",
    "    cols = ['Date'] + cols\n",
    "    wind_df=wind_df[cols]\n",
    "    rows_no, columns_no = wind_df.shape\n",
    "    result_df = pd.DataFrame(columns = ['Date','hhmm','Wind'])\n",
    "    # Flatten wind_df information which has each date as one row and hour&min as columns into result_df that has date\n",
    "    for r in range(rows_no):\n",
    "        for c in range(1,columns_no):\n",
    "            formated_date = wind_df.iloc[r,0].strftime(\"%m/%d/%Y\")\n",
    "            result_df = result_df.append({'Date': formated_date,'hhmm':wind_df.columns[c],'Wind':wind_df.iloc[r,c]},ignore_index=True)\n",
    "    if df is None:\n",
    "        return result_df\n",
    "    else:\n",
    "        return df.append(result_df)"
   ]
  },
  {
   "cell_type": "code",
   "execution_count": 10,
   "metadata": {},
   "outputs": [],
   "source": [
    "def export_month_data_2013_to_2016(month, year, df=None):\n",
    "    assert year in list(range(2013,2017)), 'Not the correct function to clean this year - '+str(year)+' data'\n",
    "    filename = filename_convention(year)\n",
    "    dummy_df = pd.read_excel(filename, sheet_name=month+str(year)[-2:])\n",
    "    select_wind = dummy_df['Date-Fuel'].str.endswith('Wind')\n",
    "    wind_df = dummy_df[select_wind]\n",
    "    wind_df.reset_index(drop=True, inplace=True)\n",
    "    # Update columns labels to hh:mm format in case it was of datetime data type:\n",
    "    column_label = []\n",
    "    for c in wind_df.columns:\n",
    "        if isinstance(c, datetime.time):\n",
    "            update_c = c.strftime(\"%H:%M\")\n",
    "            column_label.append(update_c)\n",
    "        elif isinstance(c, datetime.datetime):\n",
    "            update_c = c.strftime(\"%H:%M\")\n",
    "            column_label.append(update_c)\n",
    "        else:\n",
    "            column_label.append(c)\n",
    "    wind_df.columns = column_label\n",
    "    #Select only date and 30' time stamp as necessary column indexes:\n",
    "    cols = [c for c in wind_df.columns if (c.lower()[-2:]=='30' or c.lower()[-2:]=='00')]\n",
    "    cols = ['Date-Fuel'] + cols\n",
    "    wind_df=wind_df[cols]\n",
    "    rows_no, columns_no = wind_df.shape\n",
    "    result_df = pd.DataFrame(columns = ['Date','hhmm','Wind'])\n",
    "    # Flatten wind_df information which has each date as one row and hour&min as columns into result_df that has date\n",
    "    for r in range(rows_no):\n",
    "        for c in range(1,columns_no):\n",
    "            string_of_date = wind_df.iloc[r,0][:8]\n",
    "            formated_date = string_of_date[:6]+'20'+string_of_date[-2:]\n",
    "            result_df = result_df.append({'Date':formated_date,'hhmm':wind_df.columns[c],'Wind':wind_df.iloc[r,c]},ignore_index=True)\n",
    "    if df is None:\n",
    "        return result_df\n",
    "    else:\n",
    "        return df.append(result_df)"
   ]
  },
  {
   "cell_type": "code",
   "execution_count": 11,
   "metadata": {},
   "outputs": [],
   "source": [
    "def export_clean_wind_generation_data():\n",
    "    entire_df = None\n",
    "    for year in list(range(2013,2017)):\n",
    "        entire_df = export_year_data_2013_to_2016(year, big_df=entire_df)\n",
    "    for year in list(range(2017,2020)):\n",
    "        entire_df = export_year_data_2017_to_2019(year, big_df=entire_df)\n",
    "    entire_df.to_csv('cleaned_wind_generation_data.csv', sep='\\t', index=False)\n",
    "    return"
   ]
  },
  {
   "cell_type": "code",
   "execution_count": 12,
   "metadata": {},
   "outputs": [
    {
     "name": "stdout",
     "output_type": "stream",
     "text": [
      "FuelMixReport_PreviousYears.zip does not exist\n",
      "downloading: FuelMixReport_PreviousYears.zip\n",
      "FuelMixReport_PreviousYears.zip removed!\n",
      "IntGenByFuel2013.xls removed!\n",
      "IntGenByFuel2014.xls removed!\n",
      "IntGenByFuel2015.xls removed!\n",
      "IntGenByFuel2016.xlsx removed!\n",
      "IntGenbyFuel2017.xlsx removed!\n",
      "IntGenbyFuel2018.xlsx removed!\n",
      "IntGenbyFuel2019.xlsx removed!\n"
     ]
    }
   ],
   "source": [
    "master_wind_energy_data_processing()"
   ]
  },
  {
   "cell_type": "code",
   "execution_count": null,
   "metadata": {},
   "outputs": [],
   "source": []
  },
  {
   "cell_type": "code",
   "execution_count": 15,
   "metadata": {},
   "outputs": [],
   "source": [
    "import matplotlib.pyplot as plt"
   ]
  },
  {
   "cell_type": "code",
   "execution_count": 18,
   "metadata": {},
   "outputs": [],
   "source": [
    "wind = pd.read_csv('cleaned_wind_generation_data.csv',sep='\\t')"
   ]
  },
  {
   "cell_type": "code",
   "execution_count": 19,
   "metadata": {},
   "outputs": [
    {
     "data": {
      "text/html": [
       "<div>\n",
       "<style scoped>\n",
       "    .dataframe tbody tr th:only-of-type {\n",
       "        vertical-align: middle;\n",
       "    }\n",
       "\n",
       "    .dataframe tbody tr th {\n",
       "        vertical-align: top;\n",
       "    }\n",
       "\n",
       "    .dataframe thead th {\n",
       "        text-align: right;\n",
       "    }\n",
       "</style>\n",
       "<table border=\"1\" class=\"dataframe\">\n",
       "  <thead>\n",
       "    <tr style=\"text-align: right;\">\n",
       "      <th></th>\n",
       "      <th>Date</th>\n",
       "      <th>hhmm</th>\n",
       "      <th>Wind</th>\n",
       "    </tr>\n",
       "  </thead>\n",
       "  <tbody>\n",
       "    <tr>\n",
       "      <td>0</td>\n",
       "      <td>01/01/2013</td>\n",
       "      <td>00:30</td>\n",
       "      <td>576.718038</td>\n",
       "    </tr>\n",
       "    <tr>\n",
       "      <td>1</td>\n",
       "      <td>01/01/2013</td>\n",
       "      <td>01:00</td>\n",
       "      <td>574.326749</td>\n",
       "    </tr>\n",
       "    <tr>\n",
       "      <td>2</td>\n",
       "      <td>01/01/2013</td>\n",
       "      <td>01:30</td>\n",
       "      <td>553.273395</td>\n",
       "    </tr>\n",
       "    <tr>\n",
       "      <td>3</td>\n",
       "      <td>01/01/2013</td>\n",
       "      <td>02:00</td>\n",
       "      <td>524.661211</td>\n",
       "    </tr>\n",
       "    <tr>\n",
       "      <td>4</td>\n",
       "      <td>01/01/2013</td>\n",
       "      <td>02:30</td>\n",
       "      <td>556.940754</td>\n",
       "    </tr>\n",
       "  </tbody>\n",
       "</table>\n",
       "</div>"
      ],
      "text/plain": [
       "         Date   hhmm        Wind\n",
       "0  01/01/2013  00:30  576.718038\n",
       "1  01/01/2013  01:00  574.326749\n",
       "2  01/01/2013  01:30  553.273395\n",
       "3  01/01/2013  02:00  524.661211\n",
       "4  01/01/2013  02:30  556.940754"
      ]
     },
     "execution_count": 19,
     "metadata": {},
     "output_type": "execute_result"
    }
   ],
   "source": [
    "wind.head()"
   ]
  },
  {
   "cell_type": "code",
   "execution_count": 20,
   "metadata": {},
   "outputs": [
    {
     "data": {
      "text/plain": [
       "[<matplotlib.lines.Line2D at 0x7f3c27b81bd0>]"
      ]
     },
     "execution_count": 20,
     "metadata": {},
     "output_type": "execute_result"
    },
    {
     "data": {
      "image/png": "[encoded data removed]",
      "text/plain": [
       "<Figure size 432x288 with 1 Axes>"
      ]
     },
     "metadata": {
      "needs_background": "light"
     },
     "output_type": "display_data"
    }
   ],
   "source": [
    "plt.plot(wind['Wind'])\n"
   ]
  },
  {
   "cell_type": "code",
   "execution_count": 21,
   "metadata": {},
   "outputs": [],
   "source": [
    "solar = pd.read_csv('cleaned_solar_generation_data.csv',sep='\\t')"
   ]
  },
  {
   "cell_type": "code",
   "execution_count": 22,
   "metadata": {},
   "outputs": [
    {
     "data": {
      "text/html": [
       "<div>\n",
       "<style scoped>\n",
       "    .dataframe tbody tr th:only-of-type {\n",
       "        vertical-align: middle;\n",
       "    }\n",
       "\n",
       "    .dataframe tbody tr th {\n",
       "        vertical-align: top;\n",
       "    }\n",
       "\n",
       "    .dataframe thead th {\n",
       "        text-align: right;\n",
       "    }\n",
       "</style>\n",
       "<table border=\"1\" class=\"dataframe\">\n",
       "  <thead>\n",
       "    <tr style=\"text-align: right;\">\n",
       "      <th></th>\n",
       "      <th>Date</th>\n",
       "      <th>hhmm</th>\n",
       "      <th>Solar</th>\n",
       "    </tr>\n",
       "  </thead>\n",
       "  <tbody>\n",
       "    <tr>\n",
       "      <td>0</td>\n",
       "      <td>01/01/2013</td>\n",
       "      <td>00:30</td>\n",
       "      <td>0.0</td>\n",
       "    </tr>\n",
       "    <tr>\n",
       "      <td>1</td>\n",
       "      <td>01/01/2013</td>\n",
       "      <td>01:00</td>\n",
       "      <td>0.0</td>\n",
       "    </tr>\n",
       "    <tr>\n",
       "      <td>2</td>\n",
       "      <td>01/01/2013</td>\n",
       "      <td>01:30</td>\n",
       "      <td>0.0</td>\n",
       "    </tr>\n",
       "    <tr>\n",
       "      <td>3</td>\n",
       "      <td>01/01/2013</td>\n",
       "      <td>02:00</td>\n",
       "      <td>0.0</td>\n",
       "    </tr>\n",
       "    <tr>\n",
       "      <td>4</td>\n",
       "      <td>01/01/2013</td>\n",
       "      <td>02:30</td>\n",
       "      <td>0.0</td>\n",
       "    </tr>\n",
       "  </tbody>\n",
       "</table>\n",
       "</div>"
      ],
      "text/plain": [
       "         Date   hhmm  Solar\n",
       "0  01/01/2013  00:30    0.0\n",
       "1  01/01/2013  01:00    0.0\n",
       "2  01/01/2013  01:30    0.0\n",
       "3  01/01/2013  02:00    0.0\n",
       "4  01/01/2013  02:30    0.0"
      ]
     },
     "execution_count": 22,
     "metadata": {},
     "output_type": "execute_result"
    }
   ],
   "source": [
    "solar.head()"
   ]
  },
  {
   "cell_type": "code",
   "execution_count": 43,
   "metadata": {},
   "outputs": [
    {
     "data": {
      "text/plain": [
       "0          True\n",
       "1          True\n",
       "2          True\n",
       "3          True\n",
       "4          True\n",
       "          ...  \n",
       "122683    False\n",
       "122684    False\n",
       "122685    False\n",
       "122686    False\n",
       "122687    False\n",
       "Name: Date, Length: 122688, dtype: bool"
      ]
     },
     "execution_count": 43,
     "metadata": {},
     "output_type": "execute_result"
    }
   ],
   "source": [
    "solar['Date']=='01/01/2013'"
   ]
  },
  {
   "cell_type": "code",
   "execution_count": 44,
   "metadata": {},
   "outputs": [
    {
     "data": {
      "text/plain": [
       "[<matplotlib.lines.Line2D at 0x7f3c284c58d0>]"
      ]
     },
     "execution_count": 44,
     "metadata": {},
     "output_type": "execute_result"
    },
    {
     "data": {
      "image/png": "[encoded data removed]",
      "text/plain": [
       "<Figure size 432x288 with 1 Axes>"
      ]
     },
     "metadata": {
      "needs_background": "light"
     },
     "output_type": "display_data"
    }
   ],
   "source": [
    "plt.plot(solar['Solar'])"
   ]
  },
  {
   "cell_type": "code",
   "execution_count": 63,
   "metadata": {},
   "outputs": [],
   "source": [
    "avg = np.array([])\n",
    "for i in range(4000,122687-4000+1):\n",
    "    subsolar=np.array(solar['Solar'].iloc[i-4000:i+4000])\n",
    "    avg = np.append(avg,np.max(subsolar))"
   ]
  },
  {
   "cell_type": "code",
   "execution_count": 64,
   "metadata": {},
   "outputs": [
    {
     "data": {
      "text/plain": [
       "(114688,)"
      ]
     },
     "execution_count": 64,
     "metadata": {},
     "output_type": "execute_result"
    }
   ],
   "source": [
    "avg.shape"
   ]
  },
  {
   "cell_type": "code",
   "execution_count": 65,
   "metadata": {},
   "outputs": [
    {
     "data": {
      "text/plain": [
       "[<matplotlib.lines.Line2D at 0x7f3c26adf9d0>]"
      ]
     },
     "execution_count": 65,
     "metadata": {},
     "output_type": "execute_result"
    },
    {
     "data": {
      "image/png": "[encoded data removed]",
      "text/plain": [
       "<Figure size 432x288 with 1 Axes>"
      ]
     },
     "metadata": {
      "needs_background": "light"
     },
     "output_type": "display_data"
    }
   ],
   "source": [
    "plt.plot(avg)"
   ]
  },
  {
   "cell_type": "code",
   "execution_count": 47,
   "metadata": {},
   "outputs": [
    {
     "data": {
      "text/plain": [
       "[<matplotlib.lines.Line2D at 0x7f3c26872a50>]"
      ]
     },
     "execution_count": 47,
     "metadata": {},
     "output_type": "execute_result"
    },
    {
     "data": {
      "image/png": "[encoded data removed]",
      "text/plain": [
       "<Figure size 432x288 with 1 Axes>"
      ]
     },
     "metadata": {
      "needs_background": "light"
     },
     "output_type": "display_data"
    }
   ],
   "source": [
    "plt.plot(solar['Solar'][:17520])"
   ]
  },
  {
   "cell_type": "code",
   "execution_count": 48,
   "metadata": {},
   "outputs": [
    {
     "data": {
      "text/plain": [
       "[<matplotlib.lines.Line2D at 0x7f3c2382e410>]"
      ]
     },
     "execution_count": 48,
     "metadata": {},
     "output_type": "execute_result"
    },
    {
     "data": {
      "image/png": "[encoded data removed]",
      "text/plain": [
       "<Figure size 432x288 with 1 Axes>"
      ]
     },
     "metadata": {
      "needs_background": "light"
     },
     "output_type": "display_data"
    }
   ],
   "source": [
    "plt.plot(solar['Solar'][17520:35040])"
   ]
  },
  {
   "cell_type": "code",
   "execution_count": 49,
   "metadata": {},
   "outputs": [
    {
     "data": {
      "text/plain": [
       "[<matplotlib.lines.Line2D at 0x7f3c26effe10>]"
      ]
     },
     "execution_count": 49,
     "metadata": {},
     "output_type": "execute_result"
    },
    {
     "data": {
      "image/png": "[encoded data removed]",
      "text/plain": [
       "<Figure size 432x288 with 1 Axes>"
      ]
     },
     "metadata": {
      "needs_background": "light"
     },
     "output_type": "display_data"
    }
   ],
   "source": [
    "plt.plot(solar['Solar'][35040:52560])"
   ]
  },
  {
   "cell_type": "code",
   "execution_count": 50,
   "metadata": {},
   "outputs": [
    {
     "data": {
      "text/plain": [
       "[<matplotlib.lines.Line2D at 0x7f3c2568c450>]"
      ]
     },
     "execution_count": 50,
     "metadata": {},
     "output_type": "execute_result"
    },
    {
     "data": {
      "image/png": "[encoded data removed]",
      "text/plain": [
       "<Figure size 432x288 with 1 Axes>"
      ]
     },
     "metadata": {
      "needs_background": "light"
     },
     "output_type": "display_data"
    }
   ],
   "source": [
    "plt.plot(solar['Solar'][52560:70080])"
   ]
  },
  {
   "cell_type": "code",
   "execution_count": 51,
   "metadata": {},
   "outputs": [
    {
     "data": {
      "text/plain": [
       "[<matplotlib.lines.Line2D at 0x7f3c24ce2a50>]"
      ]
     },
     "execution_count": 51,
     "metadata": {},
     "output_type": "execute_result"
    },
    {
     "data": {
      "image/png": "[encoded data removed]",
      "text/plain": [
       "<Figure size 432x288 with 1 Axes>"
      ]
     },
     "metadata": {
      "needs_background": "light"
     },
     "output_type": "display_data"
    }
   ],
   "source": [
    "plt.plot(solar['Solar'][70080:87600])"
   ]
  },
  {
   "cell_type": "code",
   "execution_count": 52,
   "metadata": {},
   "outputs": [
    {
     "data": {
      "text/plain": [
       "[<matplotlib.lines.Line2D at 0x7f3c27b0aa90>]"
      ]
     },
     "execution_count": 52,
     "metadata": {},
     "output_type": "execute_result"
    },
    {
     "data": {
      "image/png": "[encoded data removed]",
      "text/plain": [
       "<Figure size 432x288 with 1 Axes>"
      ]
     },
     "metadata": {
      "needs_background": "light"
     },
     "output_type": "display_data"
    }
   ],
   "source": [
    "plt.plot(solar['Solar'][87600:105120])"
   ]
  },
  {
   "cell_type": "code",
   "execution_count": 53,
   "metadata": {},
   "outputs": [
    {
     "data": {
      "text/plain": [
       "[<matplotlib.lines.Line2D at 0x7f3c1fe4f6d0>]"
      ]
     },
     "execution_count": 53,
     "metadata": {},
     "output_type": "execute_result"
    },
    {
     "data": {
      "image/png": "[encoded data removed]",
      "text/plain": [
       "<Figure size 432x288 with 1 Axes>"
      ]
     },
     "metadata": {
      "needs_background": "light"
     },
     "output_type": "display_data"
    }
   ],
   "source": [
    "plt.plot(solar['Solar'][105120:122640])"
   ]
  },
  {
   "cell_type": "code",
   "execution_count": null,
   "metadata": {},
   "outputs": [],
   "source": []
  }
 ],
 "metadata": {
  "kernelspec": {
   "display_name": "Python 3",
   "language": "python",
   "name": "python3"
  },
  "language_info": {
   "codemirror_mode": {
    "name": "ipython",
    "version": 3
   },
   "file_extension": ".py",
   "mimetype": "text/x-python",
   "name": "python",
   "nbconvert_exporter": "python",
   "pygments_lexer": "ipython3",
   "version": "3.7.4"
  }
 },
 "nbformat": 4,
 "nbformat_minor": 2
}
