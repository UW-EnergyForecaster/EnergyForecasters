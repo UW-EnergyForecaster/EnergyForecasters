{
 "cells": [
  {
   "cell_type": "code",
   "execution_count": 6,
   "metadata": {
    "colab": {},
    "colab_type": "code",
    "id": "Se6BQJ-o8qrB"
   },
   "outputs": [
    {
     "name": "stderr",
     "output_type": "stream",
     "text": [
      "/home/miles/anaconda3/lib/python3.7/site-packages/IPython/utils/traitlets.py:5: UserWarning: IPython.utils.traitlets has moved to a top-level traitlets package.\n",
      "  warn(\"IPython.utils.traitlets has moved to a top-level traitlets package.\")\n"
     ]
    }
   ],
   "source": [
    "import pandas as pd\n",
    "import numpy as np\n",
    "import sklearn\n",
    "from sklearn.linear_model import Lasso\n",
    "from sklearn.linear_model import LassoCV\n",
    "from sklearn.metrics import mean_squared_error \n",
    "from sklearn.model_selection import train_test_split\n",
    "import matplotlib.pyplot as plt\n",
    "from google.colab import drive"
   ]
  },
  {
   "cell_type": "code",
   "execution_count": 9,
   "metadata": {
    "colab": {
     "base_uri": "https://localhost:8080/",
     "height": 53
    },
    "colab_type": "code",
    "id": "36MsMwIZ9IGx",
    "outputId": "a311e5c8-fed9-462d-b45a-a952736e9e57"
   },
   "outputs": [
    {
     "ename": "KeyError",
     "evalue": "'CLOUDSDK_CONFIG'",
     "output_type": "error",
     "traceback": [
      "\u001b[0;31m---------------------------------------------------------------------------\u001b[0m",
      "\u001b[0;31mKeyError\u001b[0m                                  Traceback (most recent call last)",
      "\u001b[0;32m<ipython-input-9-0e95aab06442>\u001b[0m in \u001b[0;36m<module>\u001b[0;34m\u001b[0m\n\u001b[1;32m      1\u001b[0m \u001b[0;31m# Mounting the Google Drive locally. Allows me to access my own drives.\u001b[0m\u001b[0;34m\u001b[0m\u001b[0;34m\u001b[0m\u001b[0;34m\u001b[0m\u001b[0m\n\u001b[0;32m----> 2\u001b[0;31m \u001b[0mdrive\u001b[0m\u001b[0;34m.\u001b[0m\u001b[0mmount\u001b[0m\u001b[0;34m(\u001b[0m\u001b[0;34m'/content/drive'\u001b[0m\u001b[0;34m)\u001b[0m\u001b[0;34m\u001b[0m\u001b[0;34m\u001b[0m\u001b[0m\n\u001b[0m",
      "\u001b[0;32m~/anaconda3/lib/python3.7/site-packages/google/colab/drive.py\u001b[0m in \u001b[0;36mmount\u001b[0;34m(mountpoint, force_remount, timeout_ms)\u001b[0m\n\u001b[1;32m     80\u001b[0m     \u001b[0;32mreturn\u001b[0m\u001b[0;34m\u001b[0m\u001b[0;34m\u001b[0m\u001b[0m\n\u001b[1;32m     81\u001b[0m \u001b[0;34m\u001b[0m\u001b[0m\n\u001b[0;32m---> 82\u001b[0;31m   \u001b[0menv\u001b[0m \u001b[0;34m=\u001b[0m \u001b[0m_env\u001b[0m\u001b[0;34m(\u001b[0m\u001b[0;34m)\u001b[0m\u001b[0;34m\u001b[0m\u001b[0;34m\u001b[0m\u001b[0m\n\u001b[0m\u001b[1;32m     83\u001b[0m   \u001b[0mhome\u001b[0m \u001b[0;34m=\u001b[0m \u001b[0menv\u001b[0m\u001b[0;34m.\u001b[0m\u001b[0mhome\u001b[0m\u001b[0;34m\u001b[0m\u001b[0;34m\u001b[0m\u001b[0m\n\u001b[1;32m     84\u001b[0m   \u001b[0mroot_dir\u001b[0m \u001b[0;34m=\u001b[0m \u001b[0menv\u001b[0m\u001b[0;34m.\u001b[0m\u001b[0mroot_dir\u001b[0m\u001b[0;34m\u001b[0m\u001b[0;34m\u001b[0m\u001b[0m\n",
      "\u001b[0;32m~/anaconda3/lib/python3.7/site-packages/google/colab/drive.py\u001b[0m in \u001b[0;36m_env\u001b[0;34m()\u001b[0m\n\u001b[1;32m     41\u001b[0m   \u001b[0mhome\u001b[0m \u001b[0;34m=\u001b[0m \u001b[0m_os\u001b[0m\u001b[0;34m.\u001b[0m\u001b[0menviron\u001b[0m\u001b[0;34m[\u001b[0m\u001b[0;34m'HOME'\u001b[0m\u001b[0;34m]\u001b[0m\u001b[0;34m\u001b[0m\u001b[0;34m\u001b[0m\u001b[0m\n\u001b[1;32m     42\u001b[0m   root_dir = _os.path.realpath(\n\u001b[0;32m---> 43\u001b[0;31m       _os.path.join(_os.environ['CLOUDSDK_CONFIG'], '../..'))\n\u001b[0m\u001b[1;32m     44\u001b[0m   \u001b[0minet_family\u001b[0m \u001b[0;34m=\u001b[0m \u001b[0;34m'IPV4_ONLY'\u001b[0m\u001b[0;34m\u001b[0m\u001b[0;34m\u001b[0m\u001b[0m\n\u001b[1;32m     45\u001b[0m   \u001b[0mdev\u001b[0m \u001b[0;34m=\u001b[0m \u001b[0;34m'/dev/fuse'\u001b[0m\u001b[0;34m\u001b[0m\u001b[0;34m\u001b[0m\u001b[0m\n",
      "\u001b[0;32m~/anaconda3/lib/python3.7/os.py\u001b[0m in \u001b[0;36m__getitem__\u001b[0;34m(self, key)\u001b[0m\n\u001b[1;32m    677\u001b[0m         \u001b[0;32mexcept\u001b[0m \u001b[0mKeyError\u001b[0m\u001b[0;34m:\u001b[0m\u001b[0;34m\u001b[0m\u001b[0;34m\u001b[0m\u001b[0m\n\u001b[1;32m    678\u001b[0m             \u001b[0;31m# raise KeyError with the original key value\u001b[0m\u001b[0;34m\u001b[0m\u001b[0;34m\u001b[0m\u001b[0;34m\u001b[0m\u001b[0m\n\u001b[0;32m--> 679\u001b[0;31m             \u001b[0;32mraise\u001b[0m \u001b[0mKeyError\u001b[0m\u001b[0;34m(\u001b[0m\u001b[0mkey\u001b[0m\u001b[0;34m)\u001b[0m \u001b[0;32mfrom\u001b[0m \u001b[0;32mNone\u001b[0m\u001b[0;34m\u001b[0m\u001b[0;34m\u001b[0m\u001b[0m\n\u001b[0m\u001b[1;32m    680\u001b[0m         \u001b[0;32mreturn\u001b[0m \u001b[0mself\u001b[0m\u001b[0;34m.\u001b[0m\u001b[0mdecodevalue\u001b[0m\u001b[0;34m(\u001b[0m\u001b[0mvalue\u001b[0m\u001b[0;34m)\u001b[0m\u001b[0;34m\u001b[0m\u001b[0;34m\u001b[0m\u001b[0m\n\u001b[1;32m    681\u001b[0m \u001b[0;34m\u001b[0m\u001b[0m\n",
      "\u001b[0;31mKeyError\u001b[0m: 'CLOUDSDK_CONFIG'"
     ]
    }
   ],
   "source": [
    "# Mounting the Google Drive locally. Allows me to access my own drives.\n",
    "drive.mount('/content/drive')"
   ]
  },
  {
   "cell_type": "code",
   "execution_count": 3,
   "metadata": {
    "colab": {
     "base_uri": "https://localhost:8080/",
     "height": 458
    },
    "colab_type": "code",
    "id": "pGWSDiow9Juy",
    "outputId": "1e9ce547-e86d-44a5-ca05-1b979098d3bd"
   },
   "outputs": [
    {
     "data": {
      "text/html": [
       "<div>\n",
       "<style scoped>\n",
       "    .dataframe tbody tr th:only-of-type {\n",
       "        vertical-align: middle;\n",
       "    }\n",
       "\n",
       "    .dataframe tbody tr th {\n",
       "        vertical-align: top;\n",
       "    }\n",
       "\n",
       "    .dataframe thead th {\n",
       "        text-align: right;\n",
       "    }\n",
       "</style>\n",
       "<table border=\"1\" class=\"dataframe\">\n",
       "  <thead>\n",
       "    <tr style=\"text-align: right;\">\n",
       "      <th></th>\n",
       "      <th>DHI</th>\n",
       "      <th>DNI</th>\n",
       "      <th>GHI</th>\n",
       "      <th>Clearsky DHI</th>\n",
       "      <th>Clearsky DNI</th>\n",
       "      <th>Clearsky GHI</th>\n",
       "      <th>Cloud Type</th>\n",
       "      <th>Dew Point</th>\n",
       "      <th>Solar Zenith Angle</th>\n",
       "      <th>Surface Albedo</th>\n",
       "      <th>Wind Speed</th>\n",
       "      <th>Precipitable Water</th>\n",
       "      <th>Wind Direction</th>\n",
       "      <th>Relative Humidity</th>\n",
       "      <th>Temperature</th>\n",
       "      <th>Pressure</th>\n",
       "      <th>Solar</th>\n",
       "      <th>Normalized_Solar_lin</th>\n",
       "      <th>Normalized_Solar_geom</th>\n",
       "      <th>Normalized_Solar</th>\n",
       "      <th>normalized_solar</th>\n",
       "    </tr>\n",
       "  </thead>\n",
       "  <tbody>\n",
       "    <tr>\n",
       "      <th>0</th>\n",
       "      <td>13</td>\n",
       "      <td>0</td>\n",
       "      <td>13</td>\n",
       "      <td>50</td>\n",
       "      <td>204</td>\n",
       "      <td>77</td>\n",
       "      <td>4</td>\n",
       "      <td>10.0</td>\n",
       "      <td>82.67</td>\n",
       "      <td>0.143</td>\n",
       "      <td>2.9</td>\n",
       "      <td>3.814</td>\n",
       "      <td>355.2</td>\n",
       "      <td>96.35</td>\n",
       "      <td>11.0</td>\n",
       "      <td>1010.0</td>\n",
       "      <td>0.000080</td>\n",
       "      <td>9.756098e-07</td>\n",
       "      <td>9.756098e-07</td>\n",
       "      <td>6.611570e-07</td>\n",
       "      <td>0.000004</td>\n",
       "    </tr>\n",
       "    <tr>\n",
       "      <th>1</th>\n",
       "      <td>65</td>\n",
       "      <td>0</td>\n",
       "      <td>65</td>\n",
       "      <td>81</td>\n",
       "      <td>356</td>\n",
       "      <td>160</td>\n",
       "      <td>8</td>\n",
       "      <td>10.0</td>\n",
       "      <td>77.27</td>\n",
       "      <td>0.143</td>\n",
       "      <td>3.0</td>\n",
       "      <td>3.741</td>\n",
       "      <td>355.2</td>\n",
       "      <td>96.38</td>\n",
       "      <td>11.0</td>\n",
       "      <td>1010.0</td>\n",
       "      <td>0.184486</td>\n",
       "      <td>2.249829e-03</td>\n",
       "      <td>2.249829e-03</td>\n",
       "      <td>1.524678e-03</td>\n",
       "      <td>0.010323</td>\n",
       "    </tr>\n",
       "    <tr>\n",
       "      <th>2</th>\n",
       "      <td>10</td>\n",
       "      <td>0</td>\n",
       "      <td>10</td>\n",
       "      <td>99</td>\n",
       "      <td>487</td>\n",
       "      <td>248</td>\n",
       "      <td>7</td>\n",
       "      <td>10.0</td>\n",
       "      <td>72.18</td>\n",
       "      <td>0.143</td>\n",
       "      <td>3.3</td>\n",
       "      <td>3.669</td>\n",
       "      <td>1.7</td>\n",
       "      <td>96.05</td>\n",
       "      <td>11.0</td>\n",
       "      <td>1010.0</td>\n",
       "      <td>0.472936</td>\n",
       "      <td>5.767512e-03</td>\n",
       "      <td>5.767512e-03</td>\n",
       "      <td>3.908562e-03</td>\n",
       "      <td>0.026463</td>\n",
       "    </tr>\n",
       "    <tr>\n",
       "      <th>3</th>\n",
       "      <td>14</td>\n",
       "      <td>0</td>\n",
       "      <td>14</td>\n",
       "      <td>114</td>\n",
       "      <td>566</td>\n",
       "      <td>331</td>\n",
       "      <td>8</td>\n",
       "      <td>10.0</td>\n",
       "      <td>67.46</td>\n",
       "      <td>0.143</td>\n",
       "      <td>3.3</td>\n",
       "      <td>3.601</td>\n",
       "      <td>1.7</td>\n",
       "      <td>96.08</td>\n",
       "      <td>11.0</td>\n",
       "      <td>1010.0</td>\n",
       "      <td>0.919004</td>\n",
       "      <td>1.120737e-02</td>\n",
       "      <td>1.120737e-02</td>\n",
       "      <td>7.595074e-03</td>\n",
       "      <td>0.051423</td>\n",
       "    </tr>\n",
       "    <tr>\n",
       "      <th>4</th>\n",
       "      <td>31</td>\n",
       "      <td>0</td>\n",
       "      <td>31</td>\n",
       "      <td>119</td>\n",
       "      <td>643</td>\n",
       "      <td>409</td>\n",
       "      <td>4</td>\n",
       "      <td>10.0</td>\n",
       "      <td>63.22</td>\n",
       "      <td>0.143</td>\n",
       "      <td>3.4</td>\n",
       "      <td>3.534</td>\n",
       "      <td>5.4</td>\n",
       "      <td>89.10</td>\n",
       "      <td>12.0</td>\n",
       "      <td>1010.0</td>\n",
       "      <td>1.363654</td>\n",
       "      <td>1.662993e-02</td>\n",
       "      <td>1.662993e-02</td>\n",
       "      <td>1.126987e-02</td>\n",
       "      <td>0.076303</td>\n",
       "    </tr>\n",
       "    <tr>\n",
       "      <th>...</th>\n",
       "      <td>...</td>\n",
       "      <td>...</td>\n",
       "      <td>...</td>\n",
       "      <td>...</td>\n",
       "      <td>...</td>\n",
       "      <td>...</td>\n",
       "      <td>...</td>\n",
       "      <td>...</td>\n",
       "      <td>...</td>\n",
       "      <td>...</td>\n",
       "      <td>...</td>\n",
       "      <td>...</td>\n",
       "      <td>...</td>\n",
       "      <td>...</td>\n",
       "      <td>...</td>\n",
       "      <td>...</td>\n",
       "      <td>...</td>\n",
       "      <td>...</td>\n",
       "      <td>...</td>\n",
       "      <td>...</td>\n",
       "      <td>...</td>\n",
       "    </tr>\n",
       "    <tr>\n",
       "      <th>51464</th>\n",
       "      <td>103</td>\n",
       "      <td>228</td>\n",
       "      <td>166</td>\n",
       "      <td>59</td>\n",
       "      <td>715</td>\n",
       "      <td>258</td>\n",
       "      <td>7</td>\n",
       "      <td>10.5</td>\n",
       "      <td>73.86</td>\n",
       "      <td>0.140</td>\n",
       "      <td>0.7</td>\n",
       "      <td>1.300</td>\n",
       "      <td>252.0</td>\n",
       "      <td>87.95</td>\n",
       "      <td>12.4</td>\n",
       "      <td>1012.0</td>\n",
       "      <td>278.939981</td>\n",
       "      <td>1.501292e-01</td>\n",
       "      <td>1.501292e-01</td>\n",
       "      <td>1.501292e-01</td>\n",
       "      <td>0.781612</td>\n",
       "    </tr>\n",
       "    <tr>\n",
       "      <th>51465</th>\n",
       "      <td>65</td>\n",
       "      <td>111</td>\n",
       "      <td>86</td>\n",
       "      <td>49</td>\n",
       "      <td>596</td>\n",
       "      <td>162</td>\n",
       "      <td>7</td>\n",
       "      <td>10.5</td>\n",
       "      <td>79.03</td>\n",
       "      <td>0.140</td>\n",
       "      <td>0.7</td>\n",
       "      <td>1.300</td>\n",
       "      <td>237.0</td>\n",
       "      <td>90.88</td>\n",
       "      <td>11.9</td>\n",
       "      <td>1012.0</td>\n",
       "      <td>245.728932</td>\n",
       "      <td>1.322545e-01</td>\n",
       "      <td>1.322545e-01</td>\n",
       "      <td>1.322545e-01</td>\n",
       "      <td>0.688552</td>\n",
       "    </tr>\n",
       "    <tr>\n",
       "      <th>51466</th>\n",
       "      <td>30</td>\n",
       "      <td>52</td>\n",
       "      <td>35</td>\n",
       "      <td>33</td>\n",
       "      <td>398</td>\n",
       "      <td>71</td>\n",
       "      <td>4</td>\n",
       "      <td>9.2</td>\n",
       "      <td>84.45</td>\n",
       "      <td>0.140</td>\n",
       "      <td>0.8</td>\n",
       "      <td>1.400</td>\n",
       "      <td>222.0</td>\n",
       "      <td>86.49</td>\n",
       "      <td>11.4</td>\n",
       "      <td>1013.0</td>\n",
       "      <td>151.002948</td>\n",
       "      <td>8.127177e-02</td>\n",
       "      <td>8.127177e-02</td>\n",
       "      <td>8.127177e-02</td>\n",
       "      <td>0.423122</td>\n",
       "    </tr>\n",
       "    <tr>\n",
       "      <th>51467</th>\n",
       "      <td>5</td>\n",
       "      <td>27</td>\n",
       "      <td>5</td>\n",
       "      <td>10</td>\n",
       "      <td>85</td>\n",
       "      <td>10</td>\n",
       "      <td>7</td>\n",
       "      <td>9.2</td>\n",
       "      <td>89.79</td>\n",
       "      <td>0.140</td>\n",
       "      <td>0.8</td>\n",
       "      <td>1.400</td>\n",
       "      <td>222.0</td>\n",
       "      <td>86.49</td>\n",
       "      <td>11.4</td>\n",
       "      <td>1013.0</td>\n",
       "      <td>50.007981</td>\n",
       "      <td>2.691495e-02</td>\n",
       "      <td>2.691495e-02</td>\n",
       "      <td>2.691495e-02</td>\n",
       "      <td>0.140126</td>\n",
       "    </tr>\n",
       "    <tr>\n",
       "      <th>51468</th>\n",
       "      <td>0</td>\n",
       "      <td>0</td>\n",
       "      <td>0</td>\n",
       "      <td>0</td>\n",
       "      <td>0</td>\n",
       "      <td>0</td>\n",
       "      <td>7</td>\n",
       "      <td>2.4</td>\n",
       "      <td>96.19</td>\n",
       "      <td>0.140</td>\n",
       "      <td>4.0</td>\n",
       "      <td>1.100</td>\n",
       "      <td>2.0</td>\n",
       "      <td>72.24</td>\n",
       "      <td>7.1</td>\n",
       "      <td>1026.0</td>\n",
       "      <td>1.321478</td>\n",
       "      <td>7.112368e-04</td>\n",
       "      <td>7.112368e-04</td>\n",
       "      <td>7.112368e-04</td>\n",
       "      <td>0.003703</td>\n",
       "    </tr>\n",
       "  </tbody>\n",
       "</table>\n",
       "<p>51469 rows × 21 columns</p>\n",
       "</div>"
      ],
      "text/plain": [
       "       DHI  DNI  GHI  ...  Normalized_Solar_geom  Normalized_Solar  normalized_solar\n",
       "0       13    0   13  ...           9.756098e-07      6.611570e-07          0.000004\n",
       "1       65    0   65  ...           2.249829e-03      1.524678e-03          0.010323\n",
       "2       10    0   10  ...           5.767512e-03      3.908562e-03          0.026463\n",
       "3       14    0   14  ...           1.120737e-02      7.595074e-03          0.051423\n",
       "4       31    0   31  ...           1.662993e-02      1.126987e-02          0.076303\n",
       "...    ...  ...  ...  ...                    ...               ...               ...\n",
       "51464  103  228  166  ...           1.501292e-01      1.501292e-01          0.781612\n",
       "51465   65  111   86  ...           1.322545e-01      1.322545e-01          0.688552\n",
       "51466   30   52   35  ...           8.127177e-02      8.127177e-02          0.423122\n",
       "51467    5   27    5  ...           2.691495e-02      2.691495e-02          0.140126\n",
       "51468    0    0    0  ...           7.112368e-04      7.112368e-04          0.003703\n",
       "\n",
       "[51469 rows x 21 columns]"
      ]
     },
     "execution_count": 3,
     "metadata": {
      "tags": []
     },
     "output_type": "execute_result"
    }
   ],
   "source": [
    "dataset = pd.read_csv('/content/drive/Shared drives/EnergyForecaster/Dataset/normalized_by_2000_dtpts.csv')\n",
    "dataset.dropna(inplace=True)\n",
    "dataset.pop(\"Unnamed: 0\")\n",
    "dataset"
   ]
  },
  {
   "cell_type": "markdown",
   "metadata": {
    "colab_type": "text",
    "id": "5thzuIYa-NSZ"
   },
   "source": [
    "Relative Humidity 1. feature 9 (0.346642)\n",
    "\n",
    "Solar Zenith Angle 2. feature 5 (0.149772)\n",
    "\n",
    "GHI 3. feature 2 (0.090975)\n",
    "\n",
    "Surface Albedo 4. feature 6 (0.083799)\n",
    "\n",
    "Wind Direction 5. feature 8 (0.078191)"
   ]
  },
  {
   "cell_type": "code",
   "execution_count": 0,
   "metadata": {
    "colab": {},
    "colab_type": "code",
    "id": "DmRmN7m69YEi"
   },
   "outputs": [],
   "source": [
    "x_columns = ['GHI',\n",
    "             'Solar Zenith Angle', 'Surface Albedo',\n",
    "             'Wind Direction', 'Relative Humidity']\n",
    "y_column = \"normalized_solar\""
   ]
  },
  {
   "cell_type": "code",
   "execution_count": 0,
   "metadata": {
    "colab": {},
    "colab_type": "code",
    "id": "o99elKSF-uFV"
   },
   "outputs": [],
   "source": [
    "x_train, x_test, y_train, y_test= train_test_split(dataset[x_columns], dataset[y_column], test_size=0.33, random_state=42, shuffle=False)"
   ]
  },
  {
   "cell_type": "code",
   "execution_count": 33,
   "metadata": {
    "colab": {
     "base_uri": "https://localhost:8080/",
     "height": 33
    },
    "colab_type": "code",
    "id": "BzMGsiJEJTaK",
    "outputId": "cc0a35c6-f7a7-4a18-a92e-68fd15fb3f75"
   },
   "outputs": [
    {
     "name": "stdout",
     "output_type": "stream",
     "text": [
      "Best alpha from cross validation method：0.060288076660983826\n"
     ]
    }
   ],
   "source": [
    "lassocv = LassoCV()\n",
    "lassocv.fit(x_train, y_train)\n",
    "alpha = lassocv.alpha_\n",
    "print('Best alpha from cross validation method：' + str(alpha))"
   ]
  },
  {
   "cell_type": "code",
   "execution_count": 34,
   "metadata": {
    "colab": {
     "base_uri": "https://localhost:8080/",
     "height": 50
    },
    "colab_type": "code",
    "id": "b9kkMk5d_D0J",
    "outputId": "38c3609e-9f4a-4eac-e206-5ccbd94dc79f"
   },
   "outputs": [
    {
     "name": "stdout",
     "output_type": "stream",
     "text": [
      "R2 Score:  0.5542816796055916\n",
      "MSE: 0.043758275754592055\n"
     ]
    }
   ],
   "source": [
    "regr = Lasso(alpha=alpha)\n",
    "y_pred = regr.fit(x_train, y_train).predict(x_test)\n",
    "r2_score = regr.score(x_test, y_test)\n",
    "print(\"R2 Score: \", r2_score)\n",
    "print('MSE:',mean_squared_error(y_test,y_pred))"
   ]
  },
  {
   "cell_type": "code",
   "execution_count": 35,
   "metadata": {
    "colab": {
     "base_uri": "https://localhost:8080/",
     "height": 217
    },
    "colab_type": "code",
    "id": "fKlJP_NPSHKh",
    "outputId": "334409ac-751f-4bec-8e50-a9b6d117ad8e"
   },
   "outputs": [
    {
     "data": {
      "text/plain": [
       "43953    0.535124\n",
       "7058     0.912250\n",
       "19628    0.369171\n",
       "13527    0.629188\n",
       "48467    0.637288\n",
       "           ...   \n",
       "18892    0.372769\n",
       "34904    0.278304\n",
       "10528    0.845409\n",
       "5227     0.035244\n",
       "16088    0.255530\n",
       "Name: normalized_solar, Length: 16985, dtype: float64"
      ]
     },
     "execution_count": 35,
     "metadata": {
      "tags": []
     },
     "output_type": "execute_result"
    }
   ],
   "source": [
    "y_test"
   ]
  },
  {
   "cell_type": "code",
   "execution_count": 36,
   "metadata": {
    "colab": {
     "base_uri": "https://localhost:8080/",
     "height": 281
    },
    "colab_type": "code",
    "id": "D01SSIObECzJ",
    "outputId": "de4b9ace-29ad-4b4d-b88e-583b23cd7cc9"
   },
   "outputs": [
    {
     "data": {
      "text/plain": [
       "<matplotlib.collections.PathCollection at 0x7fd4a5d787b8>"
      ]
     },
     "execution_count": 36,
     "metadata": {
      "tags": []
     },
     "output_type": "execute_result"
    },
    {
     "data": {
      "image/png": "[encoded data removed]",
      "text/plain": [
       "<Figure size 432x288 with 1 Axes>"
      ]
     },
     "metadata": {
      "tags": []
     },
     "output_type": "display_data"
    }
   ],
   "source": [
    "residual = y_pred - y_test\n",
    "i = 60\n",
    "plt.scatter(range(i), residual[:i])"
   ]
  },
  {
   "cell_type": "code",
   "execution_count": 37,
   "metadata": {
    "colab": {
     "base_uri": "https://localhost:8080/",
     "height": 415
    },
    "colab_type": "code",
    "id": "jMRw8AEYFk2N",
    "outputId": "f4a7a7a6-1b16-4258-ef0b-4404f9ddc474"
   },
   "outputs": [
    {
     "data": {
      "text/plain": [
       "<matplotlib.legend.Legend at 0x7fd4a5d31a20>"
      ]
     },
     "execution_count": 37,
     "metadata": {
      "tags": []
     },
     "output_type": "execute_result"
    },
    {
     "data": {
      "image/png": "[encoded data removed]",
      "text/plain": [
       "<Figure size 1440x432 with 1 Axes>"
      ]
     },
     "metadata": {
      "tags": []
     },
     "output_type": "display_data"
    }
   ],
   "source": [
    "# This graph is over one day\n",
    "fig = plt.figure(figsize=(20,6))\n",
    "ax = fig.add_subplot(1, 1, 1)\n",
    "ax.plot(range(i), y_pred[:i], color='blue', label=\"predicted\")\n",
    "ax.plot(range(i), y_test[:i], color='orange', label=\"test\")\n",
    "ax.legend()"
   ]
  }
 ],
 "metadata": {
  "colab": {
   "name": "LassoRegression.ipynb",
   "provenance": []
  },
  "kernelspec": {
   "display_name": "Python 3",
   "language": "python",
   "name": "python3"
  },
  "language_info": {
   "codemirror_mode": {
    "name": "ipython",
    "version": 3
   },
   "file_extension": ".py",
   "mimetype": "text/x-python",
   "name": "python",
   "nbconvert_exporter": "python",
   "pygments_lexer": "ipython3",
   "version": "3.7.6"
  }
 },
 "nbformat": 4,
 "nbformat_minor": 1
}
