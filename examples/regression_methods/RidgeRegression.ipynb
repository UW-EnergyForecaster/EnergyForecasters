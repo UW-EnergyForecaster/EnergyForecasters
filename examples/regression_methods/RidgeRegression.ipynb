{
  "nbformat": 4,
  "nbformat_minor": 0,
  "metadata": {
    "colab": {
      "name": "Ridge.ipynb",
      "provenance": [],
      "collapsed_sections": []
    },
    "kernelspec": {
      "name": "python3",
      "display_name": "Python 3"
    }
  },
  "cells": [
    {
      "cell_type": "code",
      "metadata": {
        "id": "mWzWt5qnV0Vt",
        "colab_type": "code",
        "colab": {}
      },
      "source": [
        "import pandas as pd\n",
        "import numpy as np\n",
        "import sklearn\n",
        "from sklearn.linear_model import Ridge\n",
        "from sklearn.linear_model import RidgeCV\n",
        "from sklearn.metrics import mean_squared_error \n",
        "from sklearn.model_selection import train_test_split\n",
        "import matplotlib.pyplot as plt\n",
        "from google.colab import drive"
      ],
      "execution_count": 0,
      "outputs": []
    },
    {
      "cell_type": "code",
      "metadata": {
        "id": "X2FFaYatV3Ox",
        "colab_type": "code",
        "outputId": "aa3927e4-ed86-4cfa-9e14-a117cc779ef0",
        "colab": {
          "base_uri": "https://localhost:8080/",
          "height": 53
        }
      },
      "source": [
        "# Mounting the Google Drive locally. Allows me to access my own drives.\n",
        "drive.mount('/content/drive')"
      ],
      "execution_count": 0,
      "outputs": [
        {
          "output_type": "stream",
          "text": [
            "Drive already mounted at /content/drive; to attempt to forcibly remount, call drive.mount(\"/content/drive\", force_remount=True).\n"
          ],
          "name": "stdout"
        }
      ]
    },
    {
      "cell_type": "code",
      "metadata": {
        "id": "FXhSIFqgV3-z",
        "colab_type": "code",
        "outputId": "699c9348-35ac-4c70-f25e-f0de3da5d226",
        "colab": {
          "base_uri": "https://localhost:8080/",
          "height": 458
        }
      },
      "source": [
        "dataset = pd.read_csv('/content/drive/Shared drives/EnergyForecaster/Dataset/normalized_by_2000_dtpts.csv')\n",
        "dataset.dropna(inplace=True)\n",
        "dataset.pop(\"Unnamed: 0\")\n",
        "dataset"
      ],
      "execution_count": 0,
      "outputs": [
        {
          "output_type": "execute_result",
          "data": {
            "text/html": [
              "<div>\n",
              "<style scoped>\n",
              "    .dataframe tbody tr th:only-of-type {\n",
              "        vertical-align: middle;\n",
              "    }\n",
              "\n",
              "    .dataframe tbody tr th {\n",
              "        vertical-align: top;\n",
              "    }\n",
              "\n",
              "    .dataframe thead th {\n",
              "        text-align: right;\n",
              "    }\n",
              "</style>\n",
              "<table border=\"1\" class=\"dataframe\">\n",
              "  <thead>\n",
              "    <tr style=\"text-align: right;\">\n",
              "      <th></th>\n",
              "      <th>DHI</th>\n",
              "      <th>DNI</th>\n",
              "      <th>GHI</th>\n",
              "      <th>Clearsky DHI</th>\n",
              "      <th>Clearsky DNI</th>\n",
              "      <th>Clearsky GHI</th>\n",
              "      <th>Cloud Type</th>\n",
              "      <th>Dew Point</th>\n",
              "      <th>Solar Zenith Angle</th>\n",
              "      <th>Surface Albedo</th>\n",
              "      <th>Wind Speed</th>\n",
              "      <th>Precipitable Water</th>\n",
              "      <th>Wind Direction</th>\n",
              "      <th>Relative Humidity</th>\n",
              "      <th>Temperature</th>\n",
              "      <th>Pressure</th>\n",
              "      <th>Solar</th>\n",
              "      <th>Normalized_Solar_lin</th>\n",
              "      <th>Normalized_Solar_geom</th>\n",
              "      <th>Normalized_Solar</th>\n",
              "      <th>normalized_solar</th>\n",
              "    </tr>\n",
              "  </thead>\n",
              "  <tbody>\n",
              "    <tr>\n",
              "      <th>0</th>\n",
              "      <td>13</td>\n",
              "      <td>0</td>\n",
              "      <td>13</td>\n",
              "      <td>50</td>\n",
              "      <td>204</td>\n",
              "      <td>77</td>\n",
              "      <td>4</td>\n",
              "      <td>10.0</td>\n",
              "      <td>82.67</td>\n",
              "      <td>0.143</td>\n",
              "      <td>2.9</td>\n",
              "      <td>3.814</td>\n",
              "      <td>355.2</td>\n",
              "      <td>96.35</td>\n",
              "      <td>11.0</td>\n",
              "      <td>1010.0</td>\n",
              "      <td>0.000080</td>\n",
              "      <td>9.756098e-07</td>\n",
              "      <td>9.756098e-07</td>\n",
              "      <td>6.611570e-07</td>\n",
              "      <td>0.000004</td>\n",
              "    </tr>\n",
              "    <tr>\n",
              "      <th>1</th>\n",
              "      <td>65</td>\n",
              "      <td>0</td>\n",
              "      <td>65</td>\n",
              "      <td>81</td>\n",
              "      <td>356</td>\n",
              "      <td>160</td>\n",
              "      <td>8</td>\n",
              "      <td>10.0</td>\n",
              "      <td>77.27</td>\n",
              "      <td>0.143</td>\n",
              "      <td>3.0</td>\n",
              "      <td>3.741</td>\n",
              "      <td>355.2</td>\n",
              "      <td>96.38</td>\n",
              "      <td>11.0</td>\n",
              "      <td>1010.0</td>\n",
              "      <td>0.184486</td>\n",
              "      <td>2.249829e-03</td>\n",
              "      <td>2.249829e-03</td>\n",
              "      <td>1.524678e-03</td>\n",
              "      <td>0.010323</td>\n",
              "    </tr>\n",
              "    <tr>\n",
              "      <th>2</th>\n",
              "      <td>10</td>\n",
              "      <td>0</td>\n",
              "      <td>10</td>\n",
              "      <td>99</td>\n",
              "      <td>487</td>\n",
              "      <td>248</td>\n",
              "      <td>7</td>\n",
              "      <td>10.0</td>\n",
              "      <td>72.18</td>\n",
              "      <td>0.143</td>\n",
              "      <td>3.3</td>\n",
              "      <td>3.669</td>\n",
              "      <td>1.7</td>\n",
              "      <td>96.05</td>\n",
              "      <td>11.0</td>\n",
              "      <td>1010.0</td>\n",
              "      <td>0.472936</td>\n",
              "      <td>5.767512e-03</td>\n",
              "      <td>5.767512e-03</td>\n",
              "      <td>3.908562e-03</td>\n",
              "      <td>0.026463</td>\n",
              "    </tr>\n",
              "    <tr>\n",
              "      <th>3</th>\n",
              "      <td>14</td>\n",
              "      <td>0</td>\n",
              "      <td>14</td>\n",
              "      <td>114</td>\n",
              "      <td>566</td>\n",
              "      <td>331</td>\n",
              "      <td>8</td>\n",
              "      <td>10.0</td>\n",
              "      <td>67.46</td>\n",
              "      <td>0.143</td>\n",
              "      <td>3.3</td>\n",
              "      <td>3.601</td>\n",
              "      <td>1.7</td>\n",
              "      <td>96.08</td>\n",
              "      <td>11.0</td>\n",
              "      <td>1010.0</td>\n",
              "      <td>0.919004</td>\n",
              "      <td>1.120737e-02</td>\n",
              "      <td>1.120737e-02</td>\n",
              "      <td>7.595074e-03</td>\n",
              "      <td>0.051423</td>\n",
              "    </tr>\n",
              "    <tr>\n",
              "      <th>4</th>\n",
              "      <td>31</td>\n",
              "      <td>0</td>\n",
              "      <td>31</td>\n",
              "      <td>119</td>\n",
              "      <td>643</td>\n",
              "      <td>409</td>\n",
              "      <td>4</td>\n",
              "      <td>10.0</td>\n",
              "      <td>63.22</td>\n",
              "      <td>0.143</td>\n",
              "      <td>3.4</td>\n",
              "      <td>3.534</td>\n",
              "      <td>5.4</td>\n",
              "      <td>89.10</td>\n",
              "      <td>12.0</td>\n",
              "      <td>1010.0</td>\n",
              "      <td>1.363654</td>\n",
              "      <td>1.662993e-02</td>\n",
              "      <td>1.662993e-02</td>\n",
              "      <td>1.126987e-02</td>\n",
              "      <td>0.076303</td>\n",
              "    </tr>\n",
              "    <tr>\n",
              "      <th>...</th>\n",
              "      <td>...</td>\n",
              "      <td>...</td>\n",
              "      <td>...</td>\n",
              "      <td>...</td>\n",
              "      <td>...</td>\n",
              "      <td>...</td>\n",
              "      <td>...</td>\n",
              "      <td>...</td>\n",
              "      <td>...</td>\n",
              "      <td>...</td>\n",
              "      <td>...</td>\n",
              "      <td>...</td>\n",
              "      <td>...</td>\n",
              "      <td>...</td>\n",
              "      <td>...</td>\n",
              "      <td>...</td>\n",
              "      <td>...</td>\n",
              "      <td>...</td>\n",
              "      <td>...</td>\n",
              "      <td>...</td>\n",
              "      <td>...</td>\n",
              "    </tr>\n",
              "    <tr>\n",
              "      <th>51464</th>\n",
              "      <td>103</td>\n",
              "      <td>228</td>\n",
              "      <td>166</td>\n",
              "      <td>59</td>\n",
              "      <td>715</td>\n",
              "      <td>258</td>\n",
              "      <td>7</td>\n",
              "      <td>10.5</td>\n",
              "      <td>73.86</td>\n",
              "      <td>0.140</td>\n",
              "      <td>0.7</td>\n",
              "      <td>1.300</td>\n",
              "      <td>252.0</td>\n",
              "      <td>87.95</td>\n",
              "      <td>12.4</td>\n",
              "      <td>1012.0</td>\n",
              "      <td>278.939981</td>\n",
              "      <td>1.501292e-01</td>\n",
              "      <td>1.501292e-01</td>\n",
              "      <td>1.501292e-01</td>\n",
              "      <td>0.781612</td>\n",
              "    </tr>\n",
              "    <tr>\n",
              "      <th>51465</th>\n",
              "      <td>65</td>\n",
              "      <td>111</td>\n",
              "      <td>86</td>\n",
              "      <td>49</td>\n",
              "      <td>596</td>\n",
              "      <td>162</td>\n",
              "      <td>7</td>\n",
              "      <td>10.5</td>\n",
              "      <td>79.03</td>\n",
              "      <td>0.140</td>\n",
              "      <td>0.7</td>\n",
              "      <td>1.300</td>\n",
              "      <td>237.0</td>\n",
              "      <td>90.88</td>\n",
              "      <td>11.9</td>\n",
              "      <td>1012.0</td>\n",
              "      <td>245.728932</td>\n",
              "      <td>1.322545e-01</td>\n",
              "      <td>1.322545e-01</td>\n",
              "      <td>1.322545e-01</td>\n",
              "      <td>0.688552</td>\n",
              "    </tr>\n",
              "    <tr>\n",
              "      <th>51466</th>\n",
              "      <td>30</td>\n",
              "      <td>52</td>\n",
              "      <td>35</td>\n",
              "      <td>33</td>\n",
              "      <td>398</td>\n",
              "      <td>71</td>\n",
              "      <td>4</td>\n",
              "      <td>9.2</td>\n",
              "      <td>84.45</td>\n",
              "      <td>0.140</td>\n",
              "      <td>0.8</td>\n",
              "      <td>1.400</td>\n",
              "      <td>222.0</td>\n",
              "      <td>86.49</td>\n",
              "      <td>11.4</td>\n",
              "      <td>1013.0</td>\n",
              "      <td>151.002948</td>\n",
              "      <td>8.127177e-02</td>\n",
              "      <td>8.127177e-02</td>\n",
              "      <td>8.127177e-02</td>\n",
              "      <td>0.423122</td>\n",
              "    </tr>\n",
              "    <tr>\n",
              "      <th>51467</th>\n",
              "      <td>5</td>\n",
              "      <td>27</td>\n",
              "      <td>5</td>\n",
              "      <td>10</td>\n",
              "      <td>85</td>\n",
              "      <td>10</td>\n",
              "      <td>7</td>\n",
              "      <td>9.2</td>\n",
              "      <td>89.79</td>\n",
              "      <td>0.140</td>\n",
              "      <td>0.8</td>\n",
              "      <td>1.400</td>\n",
              "      <td>222.0</td>\n",
              "      <td>86.49</td>\n",
              "      <td>11.4</td>\n",
              "      <td>1013.0</td>\n",
              "      <td>50.007981</td>\n",
              "      <td>2.691495e-02</td>\n",
              "      <td>2.691495e-02</td>\n",
              "      <td>2.691495e-02</td>\n",
              "      <td>0.140126</td>\n",
              "    </tr>\n",
              "    <tr>\n",
              "      <th>51468</th>\n",
              "      <td>0</td>\n",
              "      <td>0</td>\n",
              "      <td>0</td>\n",
              "      <td>0</td>\n",
              "      <td>0</td>\n",
              "      <td>0</td>\n",
              "      <td>7</td>\n",
              "      <td>2.4</td>\n",
              "      <td>96.19</td>\n",
              "      <td>0.140</td>\n",
              "      <td>4.0</td>\n",
              "      <td>1.100</td>\n",
              "      <td>2.0</td>\n",
              "      <td>72.24</td>\n",
              "      <td>7.1</td>\n",
              "      <td>1026.0</td>\n",
              "      <td>1.321478</td>\n",
              "      <td>7.112368e-04</td>\n",
              "      <td>7.112368e-04</td>\n",
              "      <td>7.112368e-04</td>\n",
              "      <td>0.003703</td>\n",
              "    </tr>\n",
              "  </tbody>\n",
              "</table>\n",
              "<p>51469 rows × 21 columns</p>\n",
              "</div>"
            ],
            "text/plain": [
              "       DHI  DNI  GHI  ...  Normalized_Solar_geom  Normalized_Solar  normalized_solar\n",
              "0       13    0   13  ...           9.756098e-07      6.611570e-07          0.000004\n",
              "1       65    0   65  ...           2.249829e-03      1.524678e-03          0.010323\n",
              "2       10    0   10  ...           5.767512e-03      3.908562e-03          0.026463\n",
              "3       14    0   14  ...           1.120737e-02      7.595074e-03          0.051423\n",
              "4       31    0   31  ...           1.662993e-02      1.126987e-02          0.076303\n",
              "...    ...  ...  ...  ...                    ...               ...               ...\n",
              "51464  103  228  166  ...           1.501292e-01      1.501292e-01          0.781612\n",
              "51465   65  111   86  ...           1.322545e-01      1.322545e-01          0.688552\n",
              "51466   30   52   35  ...           8.127177e-02      8.127177e-02          0.423122\n",
              "51467    5   27    5  ...           2.691495e-02      2.691495e-02          0.140126\n",
              "51468    0    0    0  ...           7.112368e-04      7.112368e-04          0.003703\n",
              "\n",
              "[51469 rows x 21 columns]"
            ]
          },
          "metadata": {
            "tags": []
          },
          "execution_count": 3
        }
      ]
    },
    {
      "cell_type": "markdown",
      "metadata": {
        "id": "7jUZgbVrX9Ye",
        "colab_type": "text"
      },
      "source": [
        "Relative Humidity 1. feature 9 (0.346642)  \n",
        "Solar Zenith Angle 2. feature 5 (0.149772)  \n",
        "GHI 3. feature 2 (0.090975)  \n",
        "Surface Albedo 4. feature 6 (0.083799)  \n",
        "Wind Direction 5. feature 8 (0.078191)"
      ]
    },
    {
      "cell_type": "code",
      "metadata": {
        "id": "J0v-SPt3WNX4",
        "colab_type": "code",
        "colab": {}
      },
      "source": [
        "x_columns = ['GHI',\n",
        "             'Solar Zenith Angle', 'Surface Albedo',\n",
        "             'Wind Direction', 'Relative Humidity']\n",
        "y_column = \"normalized_solar\""
      ],
      "execution_count": 0,
      "outputs": []
    },
    {
      "cell_type": "code",
      "metadata": {
        "id": "FW-F4bQuWNtf",
        "colab_type": "code",
        "colab": {}
      },
      "source": [
        "x_train, x_test, y_train, y_test= train_test_split(dataset[x_columns], dataset[y_column], test_size=0.33, random_state=42)"
      ],
      "execution_count": 0,
      "outputs": []
    },
    {
      "cell_type": "code",
      "metadata": {
        "id": "3BhlqdmN4OPd",
        "colab_type": "code",
        "outputId": "0ef1ae78-155a-4f25-81bb-1856cd3aa962",
        "colab": {
          "base_uri": "https://localhost:8080/",
          "height": 571
        }
      },
      "source": [
        "alphas_to_test = np.linspace(0.0001, 5)\n",
        "rcv = RidgeCV(alphas=alphas_to_test, store_cv_values=True)\n",
        "rcv.fit(x_train, y_train)\n",
        "rcv.cv_values_.shape\n",
        "smallest_idx = rcv.cv_values_.mean(axis=0).argmin()\n",
        "alphas_to_test[smallest_idx]\n",
        "%matplotlib inline\n",
        "import matplotlib.pyplot as plt\n",
        "f, ax = plt.subplots(figsize=(7, 5))\n",
        "ax.set_title(r\"Various values of $\\alpha$\")\n",
        "xy = (alphas_to_test[smallest_idx], rcv.cv_values_.mean(axis=0)[smallest_idx])\n",
        "ax.plot(alphas_to_test, rcv.cv_values_.mean(axis=0))"
      ],
      "execution_count": 0,
      "outputs": [
        {
          "output_type": "stream",
          "text": [
            "RidgeCV(alphas=array([1.00000000e-04, 1.02138776e-01, 2.04177551e-01, 3.06216327e-01,\n",
            "       4.08255102e-01, 5.10293878e-01, 6.12332653e-01, 7.14371429e-01,\n",
            "       8.16410204e-01, 9.18448980e-01, 1.02048776e+00, 1.12252653e+00,\n",
            "       1.22456531e+00, 1.32660408e+00, 1.42864286e+00, 1.53068163e+00,\n",
            "       1.63272041e+00, 1.73475918e+00, 1.83679796e+00, 1.93883673e+00,\n",
            "       2.04087551e+00, 2.14291429e+0...\n",
            "       3.26534082e+00, 3.36737959e+00, 3.46941837e+00, 3.57145714e+00,\n",
            "       3.67349592e+00, 3.77553469e+00, 3.87757347e+00, 3.97961224e+00,\n",
            "       4.08165102e+00, 4.18368980e+00, 4.28572857e+00, 4.38776735e+00,\n",
            "       4.48980612e+00, 4.59184490e+00, 4.69388367e+00, 4.79592245e+00,\n",
            "       4.89796122e+00, 5.00000000e+00]),\n",
            "        cv=None, fit_intercept=True, gcv_mode=None, normalize=False,\n",
            "        scoring=None, store_cv_values=True)\n"
          ],
          "name": "stdout"
        },
        {
          "output_type": "execute_result",
          "data": {
            "text/plain": [
              "[<matplotlib.lines.Line2D at 0x7f73d4791eb8>]"
            ]
          },
          "metadata": {
            "tags": []
          },
          "execution_count": 15
        },
        {
          "output_type": "display_data",
          "data": {
            "image/png": "[encoded data removed]",
            "text/plain": [
              "<Figure size 504x360 with 1 Axes>"
            ]
          },
          "metadata": {
            "tags": []
          }
        }
      ]
    },
    {
      "cell_type": "code",
      "metadata": {
        "id": "x9zWoGU4WPxk",
        "colab_type": "code",
        "outputId": "ff7b7ee3-b7b5-4d0f-e154-178d98a9b0ae",
        "colab": {
          "base_uri": "https://localhost:8080/",
          "height": 50
        }
      },
      "source": [
        "regr = Ridge(alpha=2)\n",
        "y_pred = regr.fit(x_train, y_train).predict(x_test)\n",
        "r2_score = regr.score(x_test, y_test)\n",
        "print(\"R2 Score: \", r2_score)\n",
        "print('MSE:',mean_squared_error(y_test,y_pred))"
      ],
      "execution_count": 0,
      "outputs": [
        {
          "output_type": "stream",
          "text": [
            "R2 Score:  0.5292916125040246\n",
            "MSE: 0.04583153714014788\n"
          ],
          "name": "stdout"
        }
      ]
    },
    {
      "cell_type": "code",
      "metadata": {
        "id": "KqMJkH6zWTCe",
        "colab_type": "code",
        "outputId": "58b00bad-d390-4bf1-8224-16af698b40a6",
        "colab": {
          "base_uri": "https://localhost:8080/",
          "height": 217
        }
      },
      "source": [
        "y_test"
      ],
      "execution_count": 0,
      "outputs": [
        {
          "output_type": "execute_result",
          "data": {
            "text/plain": [
              "49002    0.933633\n",
              "11015    0.185876\n",
              "7272     0.672831\n",
              "36406    0.079079\n",
              "6230     0.812817\n",
              "           ...   \n",
              "39260    0.825013\n",
              "47812    0.591630\n",
              "31299    0.614958\n",
              "24237    0.331401\n",
              "47753    0.838476\n",
              "Name: normalized_solar, Length: 16985, dtype: float64"
            ]
          },
          "metadata": {
            "tags": []
          },
          "execution_count": 8
        }
      ]
    },
    {
      "cell_type": "code",
      "metadata": {
        "id": "_eyoNSoF7TOO",
        "colab_type": "code",
        "outputId": "3e29a0e3-a059-474a-f23f-4d0f998ea71e",
        "colab": {
          "base_uri": "https://localhost:8080/",
          "height": 281
        }
      },
      "source": [
        "residual = y_pred - y_test\n",
        "i = len(residual)\n",
        "plt.scatter(range(i), residual[:i])"
      ],
      "execution_count": 0,
      "outputs": [
        {
          "output_type": "execute_result",
          "data": {
            "text/plain": [
              "<matplotlib.collections.PathCollection at 0x7f73d4a36cf8>"
            ]
          },
          "metadata": {
            "tags": []
          },
          "execution_count": 9
        },
        {
          "output_type": "display_data",
          "data": {
            "image/png": "[encoded data removed]",
            "text/plain": [
              "<Figure size 432x288 with 1 Axes>"
            ]
          },
          "metadata": {
            "tags": []
          }
        }
      ]
    },
    {
      "cell_type": "code",
      "metadata": {
        "id": "P8RH5kQ07Tx1",
        "colab_type": "code",
        "outputId": "f7b37fc2-7d74-4316-d303-de327080463c",
        "colab": {
          "base_uri": "https://localhost:8080/",
          "height": 410
        }
      },
      "source": [
        "# This graph is all test data\n",
        "fig = plt.figure(figsize=(20,6))\n",
        "ax = fig.add_subplot(1, 1, 1)\n",
        "ax.plot(range(i), y_pred[:i], color='blue', label=\"predicted\")\n",
        "ax.plot(range(i), y_test[:i], color='orange', label=\"test\",alpha=0.6)\n",
        "ax.legend()"
      ],
      "execution_count": 0,
      "outputs": [
        {
          "output_type": "execute_result",
          "data": {
            "text/plain": [
              "<matplotlib.legend.Legend at 0x7f73d4a2bcf8>"
            ]
          },
          "metadata": {
            "tags": []
          },
          "execution_count": 10
        },
        {
          "output_type": "display_data",
          "data": {
            "image/png": "[encoded data removed]",
            "text/plain": [
              "<Figure size 1440x432 with 1 Axes>"
            ]
          },
          "metadata": {
            "tags": []
          }
        }
      ]
    },
    {
      "cell_type": "code",
      "metadata": {
        "id": "NCINHSHg8TTK",
        "colab_type": "code",
        "colab": {}
      },
      "source": [
        ""
      ],
      "execution_count": 0,
      "outputs": []
    }
  ]
}