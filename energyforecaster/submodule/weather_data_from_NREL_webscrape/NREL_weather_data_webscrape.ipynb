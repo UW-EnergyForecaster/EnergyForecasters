{
 "cells": [
  {
   "cell_type": "code",
   "execution_count": 43,
   "metadata": {},
   "outputs": [],
   "source": [
    "import numpy as np\n",
    "import pandas as pd\n",
    "import math\n",
    "import matplotlib.pyplot as plt\n",
    "import seaborn as sns\n",
    "\n",
    "import os\n",
    "import requests\n",
    "import zipfile\n",
    "import re"
   ]
  },
  {
   "cell_type": "code",
   "execution_count": 2,
   "metadata": {},
   "outputs": [
    {
     "data": {
      "text/plain": [
       "['Relative Humidity',\n",
       " 'Solar Zenith Angle',\n",
       " 'GHI',\n",
       " 'Surface Albedo',\n",
       " 'Wind Direction',\n",
       " 'Temperature',\n",
       " 'Wind Speed',\n",
       " 'DNI',\n",
       " 'DHI',\n",
       " 'Dew Point',\n",
       " 'Pressure']"
      ]
     },
     "execution_count": 2,
     "metadata": {},
     "output_type": "execute_result"
    }
   ],
   "source": [
    "ranked_list = ['Relative Humidity', 'Solar Zenith Angle', 'GHI', 'Surface Albedo','Wind Direction','Temperature','Wind Speed','DNI','DHI','Dew Point','Pressure','Cloud Type']\n",
    "feature_list = ranked_list[:11]\n",
    "feature_list"
   ]
  },
  {
   "cell_type": "code",
   "execution_count": 3,
   "metadata": {},
   "outputs": [],
   "source": [
    "from bs4 import BeautifulSoup"
   ]
  },
  {
   "cell_type": "code",
   "execution_count": 66,
   "metadata": {},
   "outputs": [],
   "source": [
    "# acceptable location code: BMS, STAC, UOSMRL, VTIF\n",
    "location='STAC'"
   ]
  },
  {
   "cell_type": "code",
   "execution_count": 67,
   "metadata": {},
   "outputs": [],
   "source": [
    "url = 'https://midcdmz.nrel.gov/apps/daily.pl?site='+location+'&live=1'\n",
    "response = requests.get(url)"
   ]
  },
  {
   "cell_type": "code",
   "execution_count": 68,
   "metadata": {},
   "outputs": [],
   "source": [
    "outfile = open(\"delete_after.txt\", \"w\")\n",
    "outfile.write(response.text)\n",
    "outfile.close()"
   ]
  },
  {
   "cell_type": "code",
   "execution_count": 69,
   "metadata": {},
   "outputs": [
    {
     "name": "stdout",
     "output_type": "stream",
     "text": [
      "Global: ['823.44']\n",
      "Global: ['824.29']\n",
      "Direct: ['1004.81']\n",
      "Direct: ['716.02']\n",
      "Direct: ['719.21']\n",
      "Direct: ['762.03']\n",
      "Diffuse: ['96.22']\n",
      "Air Temperature: ['17.20']\n",
      "Relative Humidity: ['17.31']\n",
      "Wind Speed: ['2.77']\n",
      "Wind Speed: ['3.45']\n",
      "Wind Speed: ['0.50']\n",
      "Direct: ['267.60']\n",
      "Wind Direction: ['267.60']\n",
      "Direct: ['17.07']\n",
      "Wind Direction: ['17.07']\n",
      "Zenith: ['43.05']\n"
     ]
    }
   ],
   "source": [
    "with open('delete_after.txt','r') as readfile:\n",
    "    for line in readfile:\n",
    "        result=re.search('<TD nowrap><DIV ALIGN=right>',line)\n",
    "        if result is not None:\n",
    "            for feature in ['Global','Direct','Diffuse','Air Temperature','Relative Humidity','Zenith','Albedo','Wind Direction','Wind Speed']:\n",
    "                if feature in line:\n",
    "                    result=re.findall(\"[-+]?\\d+\\.\\d+\",line)\n",
    "                    if result is not None:\n",
    "                        print(str(feature)+': '+str(result))"
   ]
  },
  {
   "cell_type": "code",
   "execution_count": 70,
   "metadata": {},
   "outputs": [],
   "source": [
    "! rm delete_after.txt"
   ]
  },
  {
   "cell_type": "code",
   "execution_count": null,
   "metadata": {},
   "outputs": [],
   "source": []
  }
 ],
 "metadata": {
  "kernelspec": {
   "display_name": "Python 3",
   "language": "python",
   "name": "python3"
  },
  "language_info": {
   "codemirror_mode": {
    "name": "ipython",
    "version": 3
   },
   "file_extension": ".py",
   "mimetype": "text/x-python",
   "name": "python",
   "nbconvert_exporter": "python",
   "pygments_lexer": "ipython3",
   "version": "3.7.4"
  }
 },
 "nbformat": 4,
 "nbformat_minor": 2
}
