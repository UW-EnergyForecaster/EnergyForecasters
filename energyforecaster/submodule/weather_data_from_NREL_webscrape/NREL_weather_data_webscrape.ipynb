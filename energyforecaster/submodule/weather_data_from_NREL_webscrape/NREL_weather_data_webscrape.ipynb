{
 "cells": [
  {
   "cell_type": "code",
   "execution_count": 84,
   "metadata": {},
   "outputs": [],
   "source": [
    "import numpy as np\n",
    "import pandas as pd\n",
    "import math\n",
    "import matplotlib.pyplot as plt\n",
    "import seaborn as sns\n",
    "\n",
    "import os\n",
    "import requests\n",
    "import zipfile\n",
    "import re"
   ]
  },
  {
   "cell_type": "code",
   "execution_count": 85,
   "metadata": {},
   "outputs": [
    {
     "data": {
      "text/plain": [
       "['Relative Humidity',\n",
       " 'Solar Zenith Angle',\n",
       " 'GHI',\n",
       " 'Surface Albedo',\n",
       " 'Wind Direction',\n",
       " 'Temperature',\n",
       " 'Wind Speed',\n",
       " 'DNI',\n",
       " 'DHI',\n",
       " 'Dew Point',\n",
       " 'Pressure']"
      ]
     },
     "execution_count": 85,
     "metadata": {},
     "output_type": "execute_result"
    }
   ],
   "source": [
    "ranked_list = ['Relative Humidity', 'Solar Zenith Angle', 'GHI', 'Surface Albedo','Wind Direction','Temperature','Wind Speed','DNI','DHI','Dew Point','Pressure','Cloud Type']\n",
    "feature_list = ranked_list[:11]\n",
    "feature_list"
   ]
  },
  {
   "cell_type": "markdown",
   "metadata": {},
   "source": [
    "BMS station:\n",
    "Latitude: 39.742o North\n",
    "Longitude: 105.18o West\n",
    "\n",
    "STAC station:\n",
    "Latitude: 39.75685o North\n",
    "Longitude: 104.62025o West\n",
    "\n",
    "University of Oregon (SRML)\n",
    "Latitude: 44.0467o North\n",
    "Longitude: 123.0743o West\n",
    "\n",
    "VTIF NREL Vehicle Testing and Integration Facility RSR\n",
    "Latitude: 39.74211o North\n",
    "Longitude: 105.17572o West"
   ]
  },
  {
   "cell_type": "code",
   "execution_count": 86,
   "metadata": {},
   "outputs": [],
   "source": [
    "# acceptable location code: BMS, STAC, UOSMRL, VTIF\n",
    "location='VTIF'"
   ]
  },
  {
   "cell_type": "code",
   "execution_count": 87,
   "metadata": {},
   "outputs": [
    {
     "name": "stdout",
     "output_type": "stream",
     "text": [
      "Website accessed!\n"
     ]
    }
   ],
   "source": [
    "url = 'https://midcdmz.nrel.gov/apps/daily.pl?site='+location+'&live=1'\n",
    "response = requests.get(url)\n",
    "if response.status_code == 200:\n",
    "    print ('Website accessed!')\n",
    "else:\n",
    "    print ('Error code 200. Rerun this code block or check website!')"
   ]
  },
  {
   "cell_type": "code",
   "execution_count": 88,
   "metadata": {},
   "outputs": [],
   "source": [
    "outfile = open(\"delete_after.txt\", \"w\")\n",
    "outfile.write(response.text)\n",
    "outfile.close()"
   ]
  },
  {
   "cell_type": "code",
   "execution_count": 89,
   "metadata": {},
   "outputs": [],
   "source": [
    "feature_dict=dict()\n",
    "with open('delete_after.txt','r') as readfile:\n",
    "    for line in readfile:\n",
    "        result=re.search('<TD nowrap><DIV ALIGN=right>',line)\n",
    "        if result is not None:\n",
    "            for feature in ['Global','Direct','Diffuse','Wind Direction','Wind Speed','Zenith','Albedo','Relative Humidity','Air Temperature','Pressure']:\n",
    "                if feature in line:\n",
    "                    result=re.findall(\"[-+]?\\d+\\.\\d+\",line)\n",
    "                    if result is not None:\n",
    "                        if feature not in feature_dict:\n",
    "                            feature_dict[feature]=float(result[0])"
   ]
  },
  {
   "cell_type": "code",
   "execution_count": 90,
   "metadata": {},
   "outputs": [
    {
     "data": {
      "text/plain": [
       "{'Global': 709.12,\n",
       " 'Direct': 862.52,\n",
       " 'Diffuse': 260.03,\n",
       " 'Air Temperature': 17.73,\n",
       " 'Relative Humidity': 17.7,\n",
       " 'Wind Speed': 0.0,\n",
       " 'Wind Direction': 0.0,\n",
       " 'Pressure': 814.03,\n",
       " 'Zenith': 58.62}"
      ]
     },
     "execution_count": 90,
     "metadata": {},
     "output_type": "execute_result"
    }
   ],
   "source": [
    "feature_dict"
   ]
  },
  {
   "cell_type": "code",
   "execution_count": 91,
   "metadata": {},
   "outputs": [],
   "source": [
    "! rm delete_after.txt"
   ]
  },
  {
   "cell_type": "code",
   "execution_count": null,
   "metadata": {},
   "outputs": [],
   "source": []
  }
 ],
 "metadata": {
  "kernelspec": {
   "display_name": "Python 3",
   "language": "python",
   "name": "python3"
  },
  "language_info": {
   "codemirror_mode": {
    "name": "ipython",
    "version": 3
   },
   "file_extension": ".py",
   "mimetype": "text/x-python",
   "name": "python",
   "nbconvert_exporter": "python",
   "pygments_lexer": "ipython3",
   "version": "3.7.6"
  }
 },
 "nbformat": 4,
 "nbformat_minor": 2
}
